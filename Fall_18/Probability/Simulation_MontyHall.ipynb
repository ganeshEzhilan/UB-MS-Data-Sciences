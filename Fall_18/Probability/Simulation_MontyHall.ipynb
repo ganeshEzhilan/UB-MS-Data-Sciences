{
 "cells": [
  {
   "cell_type": "code",
   "execution_count": 28,
   "metadata": {},
   "outputs": [
    {
     "name": "stdout",
     "output_type": "stream",
     "text": [
      "0.33534\n"
     ]
    }
   ],
   "source": [
    "import random\n",
    "pricebox = [1, 0, 0]\n",
    "\n",
    "total_point =0\n",
    "for k in range(50000):\n",
    "    rand = random.randint(1, 300000)%3\n",
    "    myguess = pricebox[rand]\n",
    "    if pricebox[(rand+1)%3] != 1:\n",
    "        pricebox.pop((rand+1)%3)\n",
    "    else:\n",
    "        pricebox.pop((rand+2)%3)\n",
    "    total_point += myguess\n",
    "    pricebox = [1, 0, 0]\n",
    "print(total_point/50000)"
   ]
  },
  {
   "cell_type": "code",
   "execution_count": 39,
   "metadata": {},
   "outputs": [
    {
     "name": "stdout",
     "output_type": "stream",
     "text": [
      "0.66672\n"
     ]
    }
   ],
   "source": [
    "import random\n",
    "pricebox = [1, 0, 0]\n",
    "\n",
    "total_point = 0\n",
    "for k in range(50000):\n",
    "    rand = random.randint(1, 300000)%3\n",
    "    myguess = pricebox[rand]\n",
    "    if pricebox[(rand+1)%3] != 1:\n",
    "        open_box_no = (rand+1)%3\n",
    "    else:\n",
    "        open_box_no = (rand+2)%3\n",
    "    #print (\"rand , open_box_no = \", rand, open_box_no)\n",
    "    for k in range(3):\n",
    "        if ((k != rand) and (k != open_box_no)):\n",
    "            myguess = pricebox[k]\n",
    "        \n",
    "    total_point += myguess\n",
    "    pricebox = [1, 0, 0]\n",
    "print(total_point/50000)"
   ]
  },
  {
   "cell_type": "code",
   "execution_count": null,
   "metadata": {},
   "outputs": [],
   "source": []
  }
 ],
 "metadata": {
  "kernelspec": {
   "display_name": "Python 3",
   "language": "python",
   "name": "python3"
  },
  "language_info": {
   "codemirror_mode": {
    "name": "ipython",
    "version": 3
   },
   "file_extension": ".py",
   "mimetype": "text/x-python",
   "name": "python",
   "nbconvert_exporter": "python",
   "pygments_lexer": "ipython3",
   "version": "3.6.5"
  }
 },
 "nbformat": 4,
 "nbformat_minor": 2
}
