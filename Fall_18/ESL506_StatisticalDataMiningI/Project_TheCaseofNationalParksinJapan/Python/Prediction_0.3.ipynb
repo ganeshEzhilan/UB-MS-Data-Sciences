{
 "cells": [
  {
   "cell_type": "code",
   "execution_count": 4,
   "metadata": {},
   "outputs": [],
   "source": [
    "import os\n",
    "import pandas as pd\n",
    "import numpy as np\n",
    "import pandas as pd\n",
    "from sklearn import preprocessing\n",
    "import xgboost as xgb\n",
    "from xgboost.sklearn import XGBRegressor\n",
    "import datetime\n",
    "from sklearn.model_selection import GridSearchCV\n",
    "\n",
    "finaltest = pd.read_table(\"/Users/abhishekkumar/Documents/MS_UB/Fall_18/ESL506_StatisticalDataMiningI/Project/SIGNATE/translated/'ttest.tsv'.txt\")\n",
    "finaltest[\"visitors\"] = 0"
   ]
  },
  {
   "cell_type": "markdown",
   "metadata": {},
   "source": [
    "NIKKO NATIONAL PARK"
   ]
  },
  {
   "cell_type": "code",
   "execution_count": 16,
   "metadata": {},
   "outputs": [],
   "source": [
    "from sklearn.preprocessing import StandardScaler\n",
    "scaler = StandardScaler()\n",
    "\n",
    "def encodeTrainTest(train, test):\n",
    "    train_df = train\n",
    "    train['datetime'] = pd.to_datetime(train['datetime'])\n",
    "\n",
    "    #Creating new features with datetime\n",
    "    train_df[\"dayofweek\"] = train['datetime'].dt.dayofweek\n",
    "    train_df[\"dayofweek\"] = train_df[\"dayofweek\"].astype('object')\n",
    "    #train_df.loc[train_df['dayofweek'] == 2, 'dayofweek'] = 1\n",
    "    #train_df.loc[train_df['dayofweek'] == 3, 'dayofweek'] = 1\n",
    "    #train_df[train_df[\"dayofweek\"]==2] = 1\n",
    "    #train_df[train_df[\"dayofweek\"]==3] = 1\n",
    "    train_df[\"month\"] = train['datetime'].dt.month\n",
    "    train_df[\"month\"] = train_df[\"month\"].astype('object')\n",
    "    train_df[\"year\"] = train['datetime'].dt.year\n",
    "    train_df[\"year\"] = train_df[\"year\"].astype('object')\n",
    "    train_df[\"day\"] = train['datetime'].dt.day\n",
    "    train_df[\"day\"] = train_df[\"day\"].astype('object')\n",
    "    train_df = train_df.drop([\"datetime\"], axis =1)\n",
    "\n",
    "    \n",
    "\n",
    "    #COnverting datetime to cyclic features\n",
    "    #train_df['dayofweek_sin'] = np.sin(train_df[\"dayofweek\"].astype(int)*(2.*np.pi/7))\n",
    "    #train_df['dayofweek_cos'] = np.cos(train_df[\"dayofweek\"].astype(int)*(2.*np.pi/7))\n",
    "    train_df['mnth_sin'] = np.sin((train_df[\"month\"].astype(int)-1)*(2.*np.pi/12))\n",
    "    train_df['mnth_cos'] = np.cos((train_df[\"month\"].astype(int)-1)*(2.*np.pi/12))\n",
    "    train_df.drop(['month'], axis =1)\n",
    "    ##############################################################################\n",
    "    #Transforming Test Data\n",
    "    #############################################################################\n",
    "    #One hot encoding for parks\n",
    "    test_df = test\n",
    "    test['datetime'] = pd.to_datetime(test['datetime'])\n",
    "\n",
    "    #Creating new features with datetime\n",
    "    test_df[\"dayofweek\"] = test['datetime'].dt.dayofweek\n",
    "    test_df[\"dayofweek\"] = test_df[\"dayofweek\"].astype('object')\n",
    "    #test_df.loc[test_df['dayofweek'] == 2, 'dayofweek'] = 1\n",
    "    #test_df.loc[test_df['dayofweek'] == 3, 'dayofweek'] = 1\n",
    "    \n",
    "    test_df[\"month\"] = test['datetime'].dt.month\n",
    "    test_df[\"month\"] = test_df[\"month\"].astype('object')\n",
    "    test_df[\"year\"] = test['datetime'].dt.year\n",
    "    test_df[\"year\"] = test_df[\"year\"].astype('object')\n",
    "    test_df[\"day\"] = test['datetime'].dt.day\n",
    "    test_df[\"day\"] = test_df[\"day\"].astype('object')\n",
    "    test_df = test_df.drop([\"datetime\"],axis =1)\n",
    "    \n",
    "    #test_df['dayofweek_sin'] = np.sin(test_df[\"dayofweek\"].astype(int)*(2.*np.pi/7))\n",
    "    #test_df['dayofweek_cos'] = np.cos(test_df[\"dayofweek\"].astype(int)*(2.*np.pi/7))\n",
    "    test_df['mnth_sin'] = np.sin((test_df[\"month\"].astype(int)-1)*(2.*np.pi/12))\n",
    "    test_df['mnth_cos'] = np.cos((test_df[\"month\"].astype(int)-1)*(2.*np.pi/12))\n",
    "    test_df.drop(['month'], axis =1)\n",
    "    \n",
    "    return train_df, test_df\n",
    "\n",
    "\n",
    "def fitModelAndPredict(train_df, test_df):\n",
    "     \n",
    "    # Load the data\n",
    "    y_train_full = train_df[\"visitors\"]\n",
    "    x_train_full = train_df.iloc[:,1:]\n",
    "    x_test = test_df.iloc[:,1:]\n",
    "\n",
    "    \n",
    "    # Convert columns that are not numeric to a numeric value\n",
    "    for c in x_train_full.columns:\n",
    "        if x_train_full[c].dtype == 'object':\n",
    "            lbl = preprocessing.LabelEncoder()\n",
    "            lbl.fit(list(x_train_full[c].values))\n",
    "            x_train_full[c] = lbl.transform(list(x_train_full[c].values))\n",
    "            # x_train_full.drop(c,axis=1,inplace=True)\n",
    "\n",
    "    for c in x_test.columns:\n",
    "        if x_test[c].dtype == 'object':\n",
    "            lbl = preprocessing.LabelEncoder()\n",
    "            lbl.fit(list(x_test[c].values))\n",
    "            x_test[c] = lbl.transform(list(x_test[c].values))\n",
    "            # x_test.drop(c,axis=1,inplace=True)\n",
    "    \n",
    "    x_train_full = scaler.fit_transform(x_train_full) \n",
    "    x_test = scaler.fit_transform(x_test)\n",
    "\n",
    "    #Various hyper-parameters to tune\n",
    "    xgb1 = XGBRegressor()\n",
    "    #gama = np.linspace(0.1,0.5,9)\n",
    "    parameters = {'nthread':[4], #when use hyperthread, xgboost may become slower\n",
    "                  'objective':['reg:linear'],\n",
    "                  'learning_rate': [0.01, 0.03], #so called `eta` value\n",
    "                  'max_depth': [4, 6],\n",
    "                  'min_child_weight': [0.1, 3],\n",
    "                  'silent': [1],\n",
    "                  'subsample': [0.6, 0.8],\n",
    "                  'colsample_bytree': [0.5, 0.7],\n",
    "                  'n_estimators': [800],\n",
    "                  'reg_lambda':[0.1, 0.6],\n",
    "                  'gamma': [0, 0.6, 3, 50]}\n",
    "\n",
    "    xgb_grid = GridSearchCV(xgb1,\n",
    "                            parameters,\n",
    "                            cv = 5,\n",
    "                            n_jobs = 5,\n",
    "                            verbose=True)\n",
    "    \n",
    "    \n",
    "    model = xgb_grid.fit(x_train_full, y_train_full, eval_metric='rmse')\n",
    "    #best_model = xgb_grid.best_estimator_\n",
    "    \n",
    "    print(xgb_grid.best_score_)\n",
    "    print(xgb_grid.best_params_)\n",
    "    #y_pred = model.predict(x_test)\n",
    "    y_pred = model.predict(x_test)\n",
    "    return y_pred"
   ]
  },
  {
   "cell_type": "code",
   "execution_count": 17,
   "metadata": {},
   "outputs": [],
   "source": [
    "akan_train = pd.read_table(\"/Users/abhishekkumar/Documents/MS_UB/Fall_18/ESL506_StatisticalDataMiningI/Project/SIGNATE/test_and_train_data/Akan/Akan_train.csv\").drop(['epark'], axis =1)\n",
    "akan_test = pd.read_table(\"/Users/abhishekkumar/Documents/MS_UB/Fall_18/ESL506_StatisticalDataMiningI/Project/SIGNATE/test_and_train_data/Akan/Akan_test_new.csv\").drop(['serial_number', 'epark'], axis =1)\n",
    "\n",
    "aso_train = pd.read_table(\"/Users/abhishekkumar/Documents/MS_UB/Fall_18/ESL506_StatisticalDataMiningI/Project/SIGNATE/test_and_train_data/Aso/Aso_train.csv\").drop(['epark'], axis =1)\n",
    "aso_test = pd.read_table(\"/Users/abhishekkumar/Documents/MS_UB/Fall_18/ESL506_StatisticalDataMiningI/Project/SIGNATE/test_and_train_data/Aso/Aso_test_new.csv\").drop(['serial_number', 'epark'], axis =1)\n",
    "\n",
    "ise_train = pd.read_table(\"/Users/abhishekkumar/Documents/MS_UB/Fall_18/ESL506_StatisticalDataMiningI/Project/SIGNATE/test_and_train_data/Ise/Ise_train.csv\").drop(['epark'], axis =1)\n",
    "ise_test = pd.read_table(\"/Users/abhishekkumar/Documents/MS_UB/Fall_18/ESL506_StatisticalDataMiningI/Project/SIGNATE/test_and_train_data/Ise/Ise_test_new.csv\").drop(['serial_number', 'epark'], axis =1)\n",
    "\n",
    "kerama_train = pd.read_table(\"/Users/abhishekkumar/Documents/MS_UB/Fall_18/ESL506_StatisticalDataMiningI/Project/SIGNATE/test_and_train_data/Kerama/Kerama_train.csv\").drop(['epark'], axis =1)\n",
    "kerama_test = pd.read_table(\"/Users/abhishekkumar/Documents/MS_UB/Fall_18/ESL506_StatisticalDataMiningI/Project/SIGNATE/test_and_train_data/Kerama/Kerama_test_new.csv\").drop(['serial_number', 'epark'], axis =1)\n",
    "\n",
    "kirishima_train = pd.read_table(\"/Users/abhishekkumar/Documents/MS_UB/Fall_18/ESL506_StatisticalDataMiningI/Project/SIGNATE/test_and_train_data/Kirishima/Kirishima_train.csv\").drop(['epark'], axis =1)\n",
    "kirishima_test = pd.read_table(\"/Users/abhishekkumar/Documents/MS_UB/Fall_18/ESL506_StatisticalDataMiningI/Project/SIGNATE/test_and_train_data/Kirishima/Kirishima_test_new.csv\").drop(['serial_number', 'epark'], axis =1)\n",
    "\n",
    "nikko_train = pd.read_table(\"/Users/abhishekkumar/Documents/MS_UB/Fall_18/ESL506_StatisticalDataMiningI/Project/SIGNATE/test_and_train_data/Nikko/nikko_train.csv\").drop(['Unnamed: 0', 'epark'], axis =1)\n",
    "nikko_test = pd.read_table(\"/Users/abhishekkumar/Documents/MS_UB/Fall_18/ESL506_StatisticalDataMiningI/Project/SIGNATE/test_and_train_data/Nikko/nikko_test_new.csv\").drop(['serial_number', 'epark'], axis =1)\n",
    "\n",
    "oyama_train = pd.read_table(\"/Users/abhishekkumar/Documents/MS_UB/Fall_18/ESL506_StatisticalDataMiningI/Project/SIGNATE/test_and_train_data/Oyama/Oyama_train.csv\").drop(['epark'], axis =1)\n",
    "oyama_test = pd.read_table(\"/Users/abhishekkumar/Documents/MS_UB/Fall_18/ESL506_StatisticalDataMiningI/Project/SIGNATE/test_and_train_data/Oyama/Oyama_test_new.csv\").drop(['serial_number', 'epark'], axis =1)\n",
    "\n",
    "towada_train = pd.read_table(\"/Users/abhishekkumar/Documents/MS_UB/Fall_18/ESL506_StatisticalDataMiningI/Project/SIGNATE/test_and_train_data/Towada/towada_train.csv\").drop(['epark'], axis =1)\n",
    "towada_test = pd.read_table(\"/Users/abhishekkumar/Documents/MS_UB/Fall_18/ESL506_StatisticalDataMiningI/Project/SIGNATE/test_and_train_data/Towada/towada_test_new.csv\").drop(['serial_number', 'epark'], axis =1)"
   ]
  },
  {
   "cell_type": "code",
   "execution_count": 18,
   "metadata": {},
   "outputs": [
    {
     "name": "stdout",
     "output_type": "stream",
     "text": [
      "Fitting 5 folds for each of 256 candidates, totalling 1280 fits\n"
     ]
    },
    {
     "name": "stderr",
     "output_type": "stream",
     "text": [
      "/Users/abhishekkumar/anaconda3/envs/signate/lib/python3.6/site-packages/sklearn/preprocessing/data.py:625: DataConversionWarning: Data with input dtype int64, float64 were all converted to float64 by StandardScaler.\n",
      "  return self.partial_fit(X, y)\n",
      "/Users/abhishekkumar/anaconda3/envs/signate/lib/python3.6/site-packages/sklearn/base.py:462: DataConversionWarning: Data with input dtype int64, float64 were all converted to float64 by StandardScaler.\n",
      "  return self.fit(X, **fit_params).transform(X)\n",
      "/Users/abhishekkumar/anaconda3/envs/signate/lib/python3.6/site-packages/sklearn/preprocessing/data.py:625: DataConversionWarning: Data with input dtype int64, float64 were all converted to float64 by StandardScaler.\n",
      "  return self.partial_fit(X, y)\n",
      "/Users/abhishekkumar/anaconda3/envs/signate/lib/python3.6/site-packages/sklearn/base.py:462: DataConversionWarning: Data with input dtype int64, float64 were all converted to float64 by StandardScaler.\n",
      "  return self.fit(X, **fit_params).transform(X)\n",
      "[Parallel(n_jobs=5)]: Using backend LokyBackend with 5 concurrent workers.\n",
      "[Parallel(n_jobs=5)]: Done  40 tasks      | elapsed:    3.2s\n",
      "[Parallel(n_jobs=5)]: Done 190 tasks      | elapsed:   10.1s\n",
      "[Parallel(n_jobs=5)]: Done 440 tasks      | elapsed:   21.8s\n",
      "[Parallel(n_jobs=5)]: Done 790 tasks      | elapsed:   39.1s\n",
      "[Parallel(n_jobs=5)]: Done 1240 tasks      | elapsed:  1.0min\n",
      "[Parallel(n_jobs=5)]: Done 1280 out of 1280 | elapsed:  1.1min finished\n",
      "/Users/abhishekkumar/anaconda3/envs/signate/lib/python3.6/site-packages/sklearn/preprocessing/data.py:625: DataConversionWarning: Data with input dtype int64, float64 were all converted to float64 by StandardScaler.\n",
      "  return self.partial_fit(X, y)\n",
      "/Users/abhishekkumar/anaconda3/envs/signate/lib/python3.6/site-packages/sklearn/base.py:462: DataConversionWarning: Data with input dtype int64, float64 were all converted to float64 by StandardScaler.\n",
      "  return self.fit(X, **fit_params).transform(X)\n",
      "/Users/abhishekkumar/anaconda3/envs/signate/lib/python3.6/site-packages/sklearn/preprocessing/data.py:625: DataConversionWarning: Data with input dtype int64, float64 were all converted to float64 by StandardScaler.\n",
      "  return self.partial_fit(X, y)\n",
      "/Users/abhishekkumar/anaconda3/envs/signate/lib/python3.6/site-packages/sklearn/base.py:462: DataConversionWarning: Data with input dtype int64, float64 were all converted to float64 by StandardScaler.\n",
      "  return self.fit(X, **fit_params).transform(X)\n",
      "[Parallel(n_jobs=5)]: Using backend LokyBackend with 5 concurrent workers.\n"
     ]
    },
    {
     "name": "stdout",
     "output_type": "stream",
     "text": [
      "0.21096395165925416\n",
      "{'colsample_bytree': 0.5, 'gamma': 0, 'learning_rate': 0.01, 'max_depth': 4, 'min_child_weight': 3, 'n_estimators': 800, 'nthread': 4, 'objective': 'reg:linear', 'reg_lambda': 0.6, 'silent': 1, 'subsample': 0.6}\n",
      "Fitting 5 folds for each of 256 candidates, totalling 1280 fits\n"
     ]
    },
    {
     "name": "stderr",
     "output_type": "stream",
     "text": [
      "[Parallel(n_jobs=5)]: Done  40 tasks      | elapsed:    3.0s\n",
      "[Parallel(n_jobs=5)]: Done 190 tasks      | elapsed:   18.5s\n",
      "[Parallel(n_jobs=5)]: Done 440 tasks      | elapsed:   41.4s\n",
      "[Parallel(n_jobs=5)]: Done 790 tasks      | elapsed:  1.3min\n",
      "[Parallel(n_jobs=5)]: Done 1240 tasks      | elapsed:  2.1min\n",
      "[Parallel(n_jobs=5)]: Done 1280 out of 1280 | elapsed:  2.2min finished\n"
     ]
    },
    {
     "name": "stdout",
     "output_type": "stream",
     "text": [
      "0.2982320370811989\n",
      "{'colsample_bytree': 0.5, 'gamma': 0, 'learning_rate': 0.01, 'max_depth': 6, 'min_child_weight': 0.1, 'n_estimators': 800, 'nthread': 4, 'objective': 'reg:linear', 'reg_lambda': 0.6, 'silent': 1, 'subsample': 0.8}\n",
      "Fitting 5 folds for each of 256 candidates, totalling 1280 fits\n"
     ]
    },
    {
     "name": "stderr",
     "output_type": "stream",
     "text": [
      "/Users/abhishekkumar/anaconda3/envs/signate/lib/python3.6/site-packages/sklearn/preprocessing/data.py:625: DataConversionWarning: Data with input dtype int64, float64 were all converted to float64 by StandardScaler.\n",
      "  return self.partial_fit(X, y)\n",
      "/Users/abhishekkumar/anaconda3/envs/signate/lib/python3.6/site-packages/sklearn/base.py:462: DataConversionWarning: Data with input dtype int64, float64 were all converted to float64 by StandardScaler.\n",
      "  return self.fit(X, **fit_params).transform(X)\n",
      "/Users/abhishekkumar/anaconda3/envs/signate/lib/python3.6/site-packages/sklearn/preprocessing/data.py:625: DataConversionWarning: Data with input dtype int64, float64 were all converted to float64 by StandardScaler.\n",
      "  return self.partial_fit(X, y)\n",
      "/Users/abhishekkumar/anaconda3/envs/signate/lib/python3.6/site-packages/sklearn/base.py:462: DataConversionWarning: Data with input dtype int64, float64 were all converted to float64 by StandardScaler.\n",
      "  return self.fit(X, **fit_params).transform(X)\n",
      "[Parallel(n_jobs=5)]: Using backend LokyBackend with 5 concurrent workers.\n",
      "[Parallel(n_jobs=5)]: Done  40 tasks      | elapsed:    3.3s\n",
      "[Parallel(n_jobs=5)]: Done 190 tasks      | elapsed:   17.6s\n",
      "[Parallel(n_jobs=5)]: Done 440 tasks      | elapsed:   40.7s\n",
      "[Parallel(n_jobs=5)]: Done 790 tasks      | elapsed:  1.3min\n",
      "[Parallel(n_jobs=5)]: Done 1240 tasks      | elapsed:  2.1min\n",
      "[Parallel(n_jobs=5)]: Done 1280 out of 1280 | elapsed:  2.1min finished\n",
      "/Users/abhishekkumar/anaconda3/envs/signate/lib/python3.6/site-packages/sklearn/model_selection/_search.py:841: DeprecationWarning: The default of the `iid` parameter will change from True to False in version 0.22 and will be removed in 0.24. This will change numeric results when test-set sizes are unequal.\n",
      "  DeprecationWarning)\n"
     ]
    },
    {
     "name": "stdout",
     "output_type": "stream",
     "text": [
      "0.20306065676378113\n",
      "{'colsample_bytree': 0.5, 'gamma': 3, 'learning_rate': 0.03, 'max_depth': 6, 'min_child_weight': 0.1, 'n_estimators': 800, 'nthread': 4, 'objective': 'reg:linear', 'reg_lambda': 0.1, 'silent': 1, 'subsample': 0.8}\n",
      "Fitting 5 folds for each of 256 candidates, totalling 1280 fits\n"
     ]
    },
    {
     "name": "stderr",
     "output_type": "stream",
     "text": [
      "/Users/abhishekkumar/anaconda3/envs/signate/lib/python3.6/site-packages/sklearn/preprocessing/data.py:625: DataConversionWarning: Data with input dtype int64, float64 were all converted to float64 by StandardScaler.\n",
      "  return self.partial_fit(X, y)\n",
      "/Users/abhishekkumar/anaconda3/envs/signate/lib/python3.6/site-packages/sklearn/base.py:462: DataConversionWarning: Data with input dtype int64, float64 were all converted to float64 by StandardScaler.\n",
      "  return self.fit(X, **fit_params).transform(X)\n",
      "/Users/abhishekkumar/anaconda3/envs/signate/lib/python3.6/site-packages/sklearn/preprocessing/data.py:625: DataConversionWarning: Data with input dtype int64, float64 were all converted to float64 by StandardScaler.\n",
      "  return self.partial_fit(X, y)\n",
      "/Users/abhishekkumar/anaconda3/envs/signate/lib/python3.6/site-packages/sklearn/base.py:462: DataConversionWarning: Data with input dtype int64, float64 were all converted to float64 by StandardScaler.\n",
      "  return self.fit(X, **fit_params).transform(X)\n",
      "[Parallel(n_jobs=5)]: Using backend LokyBackend with 5 concurrent workers.\n",
      "[Parallel(n_jobs=5)]: Done  40 tasks      | elapsed:    3.3s\n",
      "[Parallel(n_jobs=5)]: Done 190 tasks      | elapsed:   18.9s\n",
      "[Parallel(n_jobs=5)]: Done 440 tasks      | elapsed:   44.3s\n",
      "[Parallel(n_jobs=5)]: Done 790 tasks      | elapsed:  1.4min\n",
      "[Parallel(n_jobs=5)]: Done 1240 tasks      | elapsed:  2.3min\n",
      "[Parallel(n_jobs=5)]: Done 1280 out of 1280 | elapsed:  2.4min finished\n",
      "/Users/abhishekkumar/anaconda3/envs/signate/lib/python3.6/site-packages/sklearn/model_selection/_search.py:841: DeprecationWarning: The default of the `iid` parameter will change from True to False in version 0.22 and will be removed in 0.24. This will change numeric results when test-set sizes are unequal.\n",
      "  DeprecationWarning)\n"
     ]
    },
    {
     "name": "stdout",
     "output_type": "stream",
     "text": [
      "0.13838463912014515\n",
      "{'colsample_bytree': 0.7, 'gamma': 0.6, 'learning_rate': 0.01, 'max_depth': 6, 'min_child_weight': 0.1, 'n_estimators': 800, 'nthread': 4, 'objective': 'reg:linear', 'reg_lambda': 0.6, 'silent': 1, 'subsample': 0.8}\n",
      "Fitting 5 folds for each of 256 candidates, totalling 1280 fits\n"
     ]
    },
    {
     "name": "stderr",
     "output_type": "stream",
     "text": [
      "/Users/abhishekkumar/anaconda3/envs/signate/lib/python3.6/site-packages/sklearn/preprocessing/data.py:625: DataConversionWarning: Data with input dtype int64, float64 were all converted to float64 by StandardScaler.\n",
      "  return self.partial_fit(X, y)\n",
      "/Users/abhishekkumar/anaconda3/envs/signate/lib/python3.6/site-packages/sklearn/base.py:462: DataConversionWarning: Data with input dtype int64, float64 were all converted to float64 by StandardScaler.\n",
      "  return self.fit(X, **fit_params).transform(X)\n",
      "/Users/abhishekkumar/anaconda3/envs/signate/lib/python3.6/site-packages/sklearn/preprocessing/data.py:625: DataConversionWarning: Data with input dtype int64, float64 were all converted to float64 by StandardScaler.\n",
      "  return self.partial_fit(X, y)\n",
      "/Users/abhishekkumar/anaconda3/envs/signate/lib/python3.6/site-packages/sklearn/base.py:462: DataConversionWarning: Data with input dtype int64, float64 were all converted to float64 by StandardScaler.\n",
      "  return self.fit(X, **fit_params).transform(X)\n",
      "[Parallel(n_jobs=5)]: Using backend LokyBackend with 5 concurrent workers.\n",
      "[Parallel(n_jobs=5)]: Done  40 tasks      | elapsed:    2.7s\n",
      "[Parallel(n_jobs=5)]: Done 190 tasks      | elapsed:   15.3s\n",
      "[Parallel(n_jobs=5)]: Done 440 tasks      | elapsed:   35.9s\n",
      "[Parallel(n_jobs=5)]: Done 790 tasks      | elapsed:  1.1min\n",
      "[Parallel(n_jobs=5)]: Done 1240 tasks      | elapsed:  1.9min\n",
      "[Parallel(n_jobs=5)]: Done 1280 out of 1280 | elapsed:  1.9min finished\n",
      "/Users/abhishekkumar/anaconda3/envs/signate/lib/python3.6/site-packages/sklearn/model_selection/_search.py:841: DeprecationWarning: The default of the `iid` parameter will change from True to False in version 0.22 and will be removed in 0.24. This will change numeric results when test-set sizes are unequal.\n",
      "  DeprecationWarning)\n"
     ]
    },
    {
     "name": "stdout",
     "output_type": "stream",
     "text": [
      "0.4391567794718958\n",
      "{'colsample_bytree': 0.5, 'gamma': 0.6, 'learning_rate': 0.03, 'max_depth': 6, 'min_child_weight': 0.1, 'n_estimators': 800, 'nthread': 4, 'objective': 'reg:linear', 'reg_lambda': 0.6, 'silent': 1, 'subsample': 0.8}\n",
      "Fitting 5 folds for each of 256 candidates, totalling 1280 fits\n"
     ]
    },
    {
     "name": "stderr",
     "output_type": "stream",
     "text": [
      "/Users/abhishekkumar/anaconda3/envs/signate/lib/python3.6/site-packages/sklearn/preprocessing/data.py:625: DataConversionWarning: Data with input dtype int64, float64 were all converted to float64 by StandardScaler.\n",
      "  return self.partial_fit(X, y)\n",
      "/Users/abhishekkumar/anaconda3/envs/signate/lib/python3.6/site-packages/sklearn/base.py:462: DataConversionWarning: Data with input dtype int64, float64 were all converted to float64 by StandardScaler.\n",
      "  return self.fit(X, **fit_params).transform(X)\n",
      "/Users/abhishekkumar/anaconda3/envs/signate/lib/python3.6/site-packages/sklearn/preprocessing/data.py:625: DataConversionWarning: Data with input dtype int64, float64 were all converted to float64 by StandardScaler.\n",
      "  return self.partial_fit(X, y)\n",
      "/Users/abhishekkumar/anaconda3/envs/signate/lib/python3.6/site-packages/sklearn/base.py:462: DataConversionWarning: Data with input dtype int64, float64 were all converted to float64 by StandardScaler.\n",
      "  return self.fit(X, **fit_params).transform(X)\n",
      "[Parallel(n_jobs=5)]: Using backend LokyBackend with 5 concurrent workers.\n",
      "[Parallel(n_jobs=5)]: Done  40 tasks      | elapsed:    3.4s\n",
      "[Parallel(n_jobs=5)]: Done 190 tasks      | elapsed:   18.8s\n",
      "[Parallel(n_jobs=5)]: Done 440 tasks      | elapsed:   44.0s\n",
      "[Parallel(n_jobs=5)]: Done 790 tasks      | elapsed:  1.4min\n",
      "[Parallel(n_jobs=5)]: Done 1240 tasks      | elapsed:  2.3min\n",
      "[Parallel(n_jobs=5)]: Done 1280 out of 1280 | elapsed:  2.3min finished\n",
      "/Users/abhishekkumar/anaconda3/envs/signate/lib/python3.6/site-packages/sklearn/model_selection/_search.py:841: DeprecationWarning: The default of the `iid` parameter will change from True to False in version 0.22 and will be removed in 0.24. This will change numeric results when test-set sizes are unequal.\n",
      "  DeprecationWarning)\n"
     ]
    },
    {
     "name": "stdout",
     "output_type": "stream",
     "text": [
      "0.09303063218787846\n",
      "{'colsample_bytree': 0.5, 'gamma': 3, 'learning_rate': 0.01, 'max_depth': 6, 'min_child_weight': 0.1, 'n_estimators': 800, 'nthread': 4, 'objective': 'reg:linear', 'reg_lambda': 0.6, 'silent': 1, 'subsample': 0.8}\n",
      "Fitting 5 folds for each of 256 candidates, totalling 1280 fits\n"
     ]
    },
    {
     "name": "stderr",
     "output_type": "stream",
     "text": [
      "/Users/abhishekkumar/anaconda3/envs/signate/lib/python3.6/site-packages/sklearn/preprocessing/data.py:625: DataConversionWarning: Data with input dtype int64, float64 were all converted to float64 by StandardScaler.\n",
      "  return self.partial_fit(X, y)\n",
      "/Users/abhishekkumar/anaconda3/envs/signate/lib/python3.6/site-packages/sklearn/base.py:462: DataConversionWarning: Data with input dtype int64, float64 were all converted to float64 by StandardScaler.\n",
      "  return self.fit(X, **fit_params).transform(X)\n",
      "/Users/abhishekkumar/anaconda3/envs/signate/lib/python3.6/site-packages/sklearn/preprocessing/data.py:625: DataConversionWarning: Data with input dtype int64, float64 were all converted to float64 by StandardScaler.\n",
      "  return self.partial_fit(X, y)\n",
      "/Users/abhishekkumar/anaconda3/envs/signate/lib/python3.6/site-packages/sklearn/base.py:462: DataConversionWarning: Data with input dtype int64, float64 were all converted to float64 by StandardScaler.\n",
      "  return self.fit(X, **fit_params).transform(X)\n",
      "[Parallel(n_jobs=5)]: Using backend LokyBackend with 5 concurrent workers.\n",
      "[Parallel(n_jobs=5)]: Done  40 tasks      | elapsed:    3.3s\n",
      "[Parallel(n_jobs=5)]: Done 190 tasks      | elapsed:   18.7s\n",
      "[Parallel(n_jobs=5)]: Done 440 tasks      | elapsed:   43.7s\n",
      "[Parallel(n_jobs=5)]: Done 790 tasks      | elapsed:  1.4min\n",
      "[Parallel(n_jobs=5)]: Done 1240 tasks      | elapsed:  2.2min\n",
      "[Parallel(n_jobs=5)]: Done 1280 out of 1280 | elapsed:  2.3min finished\n",
      "/Users/abhishekkumar/anaconda3/envs/signate/lib/python3.6/site-packages/sklearn/model_selection/_search.py:841: DeprecationWarning: The default of the `iid` parameter will change from True to False in version 0.22 and will be removed in 0.24. This will change numeric results when test-set sizes are unequal.\n",
      "  DeprecationWarning)\n"
     ]
    },
    {
     "name": "stdout",
     "output_type": "stream",
     "text": [
      "0.33245918909309913\n",
      "{'colsample_bytree': 0.5, 'gamma': 50, 'learning_rate': 0.01, 'max_depth': 6, 'min_child_weight': 0.1, 'n_estimators': 800, 'nthread': 4, 'objective': 'reg:linear', 'reg_lambda': 0.6, 'silent': 1, 'subsample': 0.6}\n",
      "Fitting 5 folds for each of 256 candidates, totalling 1280 fits\n"
     ]
    },
    {
     "name": "stderr",
     "output_type": "stream",
     "text": [
      "/Users/abhishekkumar/anaconda3/envs/signate/lib/python3.6/site-packages/sklearn/preprocessing/data.py:625: DataConversionWarning: Data with input dtype int64, float64 were all converted to float64 by StandardScaler.\n",
      "  return self.partial_fit(X, y)\n",
      "/Users/abhishekkumar/anaconda3/envs/signate/lib/python3.6/site-packages/sklearn/base.py:462: DataConversionWarning: Data with input dtype int64, float64 were all converted to float64 by StandardScaler.\n",
      "  return self.fit(X, **fit_params).transform(X)\n",
      "/Users/abhishekkumar/anaconda3/envs/signate/lib/python3.6/site-packages/sklearn/preprocessing/data.py:625: DataConversionWarning: Data with input dtype int64, float64 were all converted to float64 by StandardScaler.\n",
      "  return self.partial_fit(X, y)\n",
      "/Users/abhishekkumar/anaconda3/envs/signate/lib/python3.6/site-packages/sklearn/base.py:462: DataConversionWarning: Data with input dtype int64, float64 were all converted to float64 by StandardScaler.\n",
      "  return self.fit(X, **fit_params).transform(X)\n",
      "[Parallel(n_jobs=5)]: Using backend LokyBackend with 5 concurrent workers.\n",
      "[Parallel(n_jobs=5)]: Done  40 tasks      | elapsed:    3.8s\n",
      "[Parallel(n_jobs=5)]: Done 190 tasks      | elapsed:   20.5s\n",
      "[Parallel(n_jobs=5)]: Done 440 tasks      | elapsed:   44.4s\n",
      "[Parallel(n_jobs=5)]: Done 790 tasks      | elapsed:  1.4min\n",
      "[Parallel(n_jobs=5)]: Done 1240 tasks      | elapsed:  2.2min\n",
      "[Parallel(n_jobs=5)]: Done 1280 out of 1280 | elapsed:  2.3min finished\n",
      "/Users/abhishekkumar/anaconda3/envs/signate/lib/python3.6/site-packages/sklearn/model_selection/_search.py:841: DeprecationWarning: The default of the `iid` parameter will change from True to False in version 0.22 and will be removed in 0.24. This will change numeric results when test-set sizes are unequal.\n",
      "  DeprecationWarning)\n"
     ]
    },
    {
     "name": "stdout",
     "output_type": "stream",
     "text": [
      "0.24046183048552686\n",
      "{'colsample_bytree': 0.5, 'gamma': 0, 'learning_rate': 0.01, 'max_depth': 6, 'min_child_weight': 3, 'n_estimators': 800, 'nthread': 4, 'objective': 'reg:linear', 'reg_lambda': 0.6, 'silent': 1, 'subsample': 0.8}\n"
     ]
    }
   ],
   "source": [
    "oyama_pred_df  = pd.DataFrame()\n",
    "oyama_pred_df[\"index\"] = oyama_test[\"index\"]\n",
    "oyama_train, oyama_test = encodeTrainTest(oyama_train, oyama_test)\n",
    "oyama_pred = fitModelAndPredict(oyama_train, oyama_test)\n",
    "oyama_pred_df['visitors'] = oyama_pred\n",
    "\n",
    "towada_pred_df  = pd.DataFrame()\n",
    "towada_pred_df[\"index\"] = towada_test[\"index\"]\n",
    "towada_train, towada_test = encodeTrainTest(towada_train, towada_test)\n",
    "towada_pred = fitModelAndPredict(towada_train, towada_test)\n",
    "towada_pred_df['visitors'] = towada_pred\n",
    "\n",
    "\n",
    "akan_pred_df  = pd.DataFrame()\n",
    "akan_pred_df[\"index\"] = akan_test[\"index\"]\n",
    "akan_train, akan_test = encodeTrainTest(akan_train, akan_test)\n",
    "akan_pred = fitModelAndPredict(akan_train, akan_test)\n",
    "akan_pred_df['visitors'] = akan_pred\n",
    "\n",
    "aso_pred_df  = pd.DataFrame()\n",
    "aso_pred_df[\"index\"] = aso_test[\"index\"]\n",
    "aso_train, aso_test = encodeTrainTest(aso_train, aso_test)\n",
    "aso_pred = fitModelAndPredict(aso_train, aso_test)\n",
    "aso_pred_df['visitors'] = aso_pred\n",
    "\n",
    "ise_pred_df  = pd.DataFrame()\n",
    "ise_pred_df[\"index\"] = ise_test[\"index\"]\n",
    "ise_train, ise_test = encodeTrainTest(ise_train, ise_test)\n",
    "ise_pred = fitModelAndPredict(ise_train, ise_test)\n",
    "ise_pred_df['visitors'] = ise_pred\n",
    "\n",
    "kerama_pred_df  = pd.DataFrame()\n",
    "kerama_pred_df[\"index\"] = kerama_test[\"index\"]\n",
    "kerama_train, kerama_test = encodeTrainTest(kerama_train, kerama_test)\n",
    "kerama_pred = fitModelAndPredict(kerama_train, kerama_test)\n",
    "kerama_pred_df['visitors'] = kerama_pred\n",
    "\n",
    "kirishima_pred_df  = pd.DataFrame()\n",
    "kirishima_pred_df[\"index\"] = kirishima_test[\"index\"]\n",
    "kirishima_train, kirishima_test = encodeTrainTest(kirishima_train, kirishima_test)\n",
    "kirishima_pred = fitModelAndPredict(kirishima_train, kirishima_test)\n",
    "kirishima_pred_df['visitors'] = kirishima_pred\n",
    "\n",
    "nikko_pred_df  = pd.DataFrame()\n",
    "nikko_pred_df[\"index\"] = nikko_test[\"index\"]\n",
    "nikko_train, nikko_test = encodeTrainTest(nikko_train, nikko_test)\n",
    "nikko_pred = fitModelAndPredict(nikko_train, nikko_test)\n",
    "nikko_pred_df['visitors'] = nikko_pred\n",
    "\n"
   ]
  },
  {
   "cell_type": "code",
   "execution_count": 14,
   "metadata": {},
   "outputs": [],
   "source": [
    "\n",
    "oyama_pred_df1 = oyama_pred_df.copy()\n",
    "oyama_min = np.min(oyama_train[\"visitors\"])\n",
    "tmp = oyama_pred_df[\"visitors\"].values\n",
    "tmp[tmp<=oyama_min] = np.mean(oyama_train[\"visitors\"])\n",
    "oyama_pred_df[\"visitors\"] = tmp\n",
    "\n",
    "towada_pred_df1 = towada_pred_df.copy()\n",
    "towada_min = np.min(towada_train[\"visitors\"])\n",
    "tmp = towada_pred_df[\"visitors\"].values\n",
    "tmp[tmp<=towada_min] = np.mean(towada_train[\"visitors\"])\n",
    "towada_pred_df[\"visitors\"] = tmp\n",
    "\n",
    "akan_pred_df1 = akan_pred_df.copy()\n",
    "akan_min = np.min(akan_train[\"visitors\"])\n",
    "tmp = akan_pred_df[\"visitors\"].values\n",
    "tmp[tmp<=akan_min] = np.mean(akan_train[\"visitors\"])\n",
    "akan_pred_df[\"visitors\"] = tmp\n",
    "\n",
    "aso_pred_df1 = aso_pred_df.copy()\n",
    "aso_min = np.min(aso_train[\"visitors\"])\n",
    "tmp = aso_pred_df[\"visitors\"].values\n",
    "tmp[tmp<=aso_min] = np.mean(aso_train[\"visitors\"])\n",
    "aso_pred_df[\"visitors\"] = tmp\n",
    "\n",
    "ise_pred_df1 = ise_pred_df.copy()\n",
    "ise_min = np.min(ise_train[\"visitors\"])\n",
    "tmp = ise_pred_df[\"visitors\"].values\n",
    "tmp[tmp<=ise_min] = np.mean(ise_train[\"visitors\"])\n",
    "ise_pred_df[\"visitors\"] = tmp\n",
    "\n",
    "kerama_pred_df1 = kerama_pred_df.copy()\n",
    "kerama_min = np.min(kerama_train[\"visitors\"])\n",
    "tmp = kerama_pred_df[\"visitors\"].values\n",
    "tmp[tmp<=kerama_min] = np.mean(kerama_train[\"visitors\"])\n",
    "kerama_pred_df[\"visitors\"] = tmp\n",
    "\n",
    "kirishima_pred_df1 = kirishima_pred_df.copy()\n",
    "kirishima_min = np.min(kirishima_train[\"visitors\"])\n",
    "tmp = kirishima_pred_df[\"visitors\"].values\n",
    "tmp[tmp<=kirishima_min] = np.mean(kirishima_train[\"visitors\"])\n",
    "kirishima_pred_df[\"visitors\"] = tmp\n",
    "\n",
    "nikko_pred_df1 = nikko_pred_df.copy()\n",
    "nikko_min = np.min(nikko_train[\"visitors\"])\n",
    "tmp = nikko_pred_df[\"visitors\"].values\n",
    "tmp[tmp<=nikko_min] = np.mean(nikko_train[\"visitors\"])\n",
    "nikko_pred_df[\"visitors\"] = tmp"
   ]
  },
  {
   "cell_type": "code",
   "execution_count": 15,
   "metadata": {},
   "outputs": [],
   "source": [
    "pred_df = pd.DataFrame()\n",
    "pred_df = pd.concat([oyama_pred_df, towada_pred_df, akan_pred_df, aso_pred_df, ise_pred_df, kerama_pred_df, kirishima_pred_df, nikko_pred_df])\n",
    "pred_df = pred_df.sort_values(['index'], ascending=[1])\n",
    "pred_df[\"visitors\"] = np.round(pred_df[\"visitors\"]).astype(int)\n",
    "pred_df.to_csv('/Users/abhishekkumar/Documents/MS_UB/Fall_18/ESL506_StatisticalDataMiningI/Project/SIGNATE/sample_submit.tsv',sep='\\t',header=False, index =False)"
   ]
  },
  {
   "cell_type": "code",
   "execution_count": 20,
   "metadata": {},
   "outputs": [
    {
     "ename": "NameError",
     "evalue": "name 'params' is not defined",
     "output_type": "error",
     "traceback": [
      "\u001b[0;31m---------------------------------------------------------------------------\u001b[0m",
      "\u001b[0;31mNameError\u001b[0m                                 Traceback (most recent call last)",
      "\u001b[0;32m<ipython-input-20-2b8daefd0951>\u001b[0m in \u001b[0;36m<module>\u001b[0;34m\u001b[0m\n\u001b[0;32m----> 1\u001b[0;31m \u001b[0mmodel\u001b[0m \u001b[0;34m=\u001b[0m \u001b[0mxgb\u001b[0m\u001b[0;34m.\u001b[0m\u001b[0mtrain\u001b[0m\u001b[0;34m(\u001b[0m\u001b[0mparams\u001b[0m\u001b[0;34m,\u001b[0m \u001b[0md_train\u001b[0m\u001b[0;34m,\u001b[0m \u001b[0;36m1000\u001b[0m\u001b[0;34m,\u001b[0m \u001b[0mwatchlist\u001b[0m\u001b[0;34m)\u001b[0m\u001b[0;34m\u001b[0m\u001b[0m\n\u001b[0m\u001b[1;32m      2\u001b[0m \u001b[0mfig\u001b[0m\u001b[0;34m,\u001b[0m \u001b[0max\u001b[0m \u001b[0;34m=\u001b[0m \u001b[0mplt\u001b[0m\u001b[0;34m.\u001b[0m\u001b[0msubplots\u001b[0m\u001b[0;34m(\u001b[0m\u001b[0mfigsize\u001b[0m\u001b[0;34m=\u001b[0m\u001b[0;34m(\u001b[0m\u001b[0;36m12\u001b[0m\u001b[0;34m,\u001b[0m\u001b[0;36m18\u001b[0m\u001b[0;34m)\u001b[0m\u001b[0;34m)\u001b[0m\u001b[0;34m\u001b[0m\u001b[0m\n\u001b[1;32m      3\u001b[0m \u001b[0mxgb\u001b[0m\u001b[0;34m.\u001b[0m\u001b[0mplot_importance\u001b[0m\u001b[0;34m(\u001b[0m\u001b[0mmodel\u001b[0m\u001b[0;34m,\u001b[0m \u001b[0mmax_num_features\u001b[0m\u001b[0;34m=\u001b[0m\u001b[0;36m50\u001b[0m\u001b[0;34m,\u001b[0m \u001b[0mheight\u001b[0m\u001b[0;34m=\u001b[0m\u001b[0;36m0.8\u001b[0m\u001b[0;34m,\u001b[0m \u001b[0max\u001b[0m\u001b[0;34m=\u001b[0m\u001b[0max\u001b[0m\u001b[0;34m)\u001b[0m\u001b[0;34m\u001b[0m\u001b[0m\n\u001b[1;32m      4\u001b[0m \u001b[0mplt\u001b[0m\u001b[0;34m.\u001b[0m\u001b[0mshow\u001b[0m\u001b[0;34m(\u001b[0m\u001b[0;34m)\u001b[0m\u001b[0;34m\u001b[0m\u001b[0m\n",
      "\u001b[0;31mNameError\u001b[0m: name 'params' is not defined"
     ]
    }
   ],
   "source": [
    "model = xgb.train(params, d_train, 1000, watchlist)\n",
    "fig, ax = plt.subplots(figsize=(12,18))\n",
    "xgb.plot_importance(model, max_num_features=50, height=0.8, ax=ax)\n",
    "plt.show()"
   ]
  },
  {
   "cell_type": "code",
   "execution_count": 21,
   "metadata": {},
   "outputs": [
    {
     "ename": "KeyError",
     "evalue": "'datetime'",
     "output_type": "error",
     "traceback": [
      "\u001b[0;31m---------------------------------------------------------------------------\u001b[0m",
      "\u001b[0;31mKeyError\u001b[0m                                  Traceback (most recent call last)",
      "\u001b[0;32m~/anaconda3/envs/signate/lib/python3.6/site-packages/pandas/core/indexes/base.py\u001b[0m in \u001b[0;36mget_loc\u001b[0;34m(self, key, method, tolerance)\u001b[0m\n\u001b[1;32m   3077\u001b[0m             \u001b[0;32mtry\u001b[0m\u001b[0;34m:\u001b[0m\u001b[0;34m\u001b[0m\u001b[0m\n\u001b[0;32m-> 3078\u001b[0;31m                 \u001b[0;32mreturn\u001b[0m \u001b[0mself\u001b[0m\u001b[0;34m.\u001b[0m\u001b[0m_engine\u001b[0m\u001b[0;34m.\u001b[0m\u001b[0mget_loc\u001b[0m\u001b[0;34m(\u001b[0m\u001b[0mkey\u001b[0m\u001b[0;34m)\u001b[0m\u001b[0;34m\u001b[0m\u001b[0m\n\u001b[0m\u001b[1;32m   3079\u001b[0m             \u001b[0;32mexcept\u001b[0m \u001b[0mKeyError\u001b[0m\u001b[0;34m:\u001b[0m\u001b[0;34m\u001b[0m\u001b[0m\n",
      "\u001b[0;32mpandas/_libs/index.pyx\u001b[0m in \u001b[0;36mpandas._libs.index.IndexEngine.get_loc\u001b[0;34m()\u001b[0m\n",
      "\u001b[0;32mpandas/_libs/index.pyx\u001b[0m in \u001b[0;36mpandas._libs.index.IndexEngine.get_loc\u001b[0;34m()\u001b[0m\n",
      "\u001b[0;32mpandas/_libs/hashtable_class_helper.pxi\u001b[0m in \u001b[0;36mpandas._libs.hashtable.PyObjectHashTable.get_item\u001b[0;34m()\u001b[0m\n",
      "\u001b[0;32mpandas/_libs/hashtable_class_helper.pxi\u001b[0m in \u001b[0;36mpandas._libs.hashtable.PyObjectHashTable.get_item\u001b[0;34m()\u001b[0m\n",
      "\u001b[0;31mKeyError\u001b[0m: 'datetime'",
      "\nDuring handling of the above exception, another exception occurred:\n",
      "\u001b[0;31mKeyError\u001b[0m                                  Traceback (most recent call last)",
      "\u001b[0;32m<ipython-input-21-fbe2d6803e9f>\u001b[0m in \u001b[0;36m<module>\u001b[0;34m\u001b[0m\n\u001b[1;32m      1\u001b[0m \u001b[0;32mimport\u001b[0m \u001b[0mmatplotlib\u001b[0m\u001b[0;34m.\u001b[0m\u001b[0mpyplot\u001b[0m \u001b[0;32mas\u001b[0m \u001b[0mplt\u001b[0m\u001b[0;34m\u001b[0m\u001b[0m\n\u001b[1;32m      2\u001b[0m \u001b[0mcheck_df\u001b[0m \u001b[0;34m=\u001b[0m \u001b[0mpd\u001b[0m\u001b[0;34m.\u001b[0m\u001b[0mDataFrame\u001b[0m\u001b[0;34m(\u001b[0m\u001b[0;34m)\u001b[0m\u001b[0;34m\u001b[0m\u001b[0m\n\u001b[0;32m----> 3\u001b[0;31m \u001b[0mcheck_df\u001b[0m\u001b[0;34m[\u001b[0m\u001b[0;34m\"date\"\u001b[0m\u001b[0;34m]\u001b[0m \u001b[0;34m=\u001b[0m \u001b[0mnikko_test\u001b[0m\u001b[0;34m[\u001b[0m\u001b[0;34m\"datetime\"\u001b[0m\u001b[0;34m]\u001b[0m\u001b[0;34m\u001b[0m\u001b[0m\n\u001b[0m\u001b[1;32m      4\u001b[0m \u001b[0mcheck_df\u001b[0m\u001b[0;34m.\u001b[0m\u001b[0mindex\u001b[0m \u001b[0;34m=\u001b[0m \u001b[0mpd\u001b[0m\u001b[0;34m.\u001b[0m\u001b[0mto_datetime\u001b[0m\u001b[0;34m(\u001b[0m\u001b[0mcheck_df\u001b[0m\u001b[0;34m[\u001b[0m\u001b[0;34m\"date\"\u001b[0m\u001b[0;34m]\u001b[0m\u001b[0;34m)\u001b[0m\u001b[0;34m\u001b[0m\u001b[0m\n\u001b[1;32m      5\u001b[0m \u001b[0;34m\u001b[0m\u001b[0m\n",
      "\u001b[0;32m~/anaconda3/envs/signate/lib/python3.6/site-packages/pandas/core/frame.py\u001b[0m in \u001b[0;36m__getitem__\u001b[0;34m(self, key)\u001b[0m\n\u001b[1;32m   2686\u001b[0m             \u001b[0;32mreturn\u001b[0m \u001b[0mself\u001b[0m\u001b[0;34m.\u001b[0m\u001b[0m_getitem_multilevel\u001b[0m\u001b[0;34m(\u001b[0m\u001b[0mkey\u001b[0m\u001b[0;34m)\u001b[0m\u001b[0;34m\u001b[0m\u001b[0m\n\u001b[1;32m   2687\u001b[0m         \u001b[0;32melse\u001b[0m\u001b[0;34m:\u001b[0m\u001b[0;34m\u001b[0m\u001b[0m\n\u001b[0;32m-> 2688\u001b[0;31m             \u001b[0;32mreturn\u001b[0m \u001b[0mself\u001b[0m\u001b[0;34m.\u001b[0m\u001b[0m_getitem_column\u001b[0m\u001b[0;34m(\u001b[0m\u001b[0mkey\u001b[0m\u001b[0;34m)\u001b[0m\u001b[0;34m\u001b[0m\u001b[0m\n\u001b[0m\u001b[1;32m   2689\u001b[0m \u001b[0;34m\u001b[0m\u001b[0m\n\u001b[1;32m   2690\u001b[0m     \u001b[0;32mdef\u001b[0m \u001b[0m_getitem_column\u001b[0m\u001b[0;34m(\u001b[0m\u001b[0mself\u001b[0m\u001b[0;34m,\u001b[0m \u001b[0mkey\u001b[0m\u001b[0;34m)\u001b[0m\u001b[0;34m:\u001b[0m\u001b[0;34m\u001b[0m\u001b[0m\n",
      "\u001b[0;32m~/anaconda3/envs/signate/lib/python3.6/site-packages/pandas/core/frame.py\u001b[0m in \u001b[0;36m_getitem_column\u001b[0;34m(self, key)\u001b[0m\n\u001b[1;32m   2693\u001b[0m         \u001b[0;31m# get column\u001b[0m\u001b[0;34m\u001b[0m\u001b[0;34m\u001b[0m\u001b[0m\n\u001b[1;32m   2694\u001b[0m         \u001b[0;32mif\u001b[0m \u001b[0mself\u001b[0m\u001b[0;34m.\u001b[0m\u001b[0mcolumns\u001b[0m\u001b[0;34m.\u001b[0m\u001b[0mis_unique\u001b[0m\u001b[0;34m:\u001b[0m\u001b[0;34m\u001b[0m\u001b[0m\n\u001b[0;32m-> 2695\u001b[0;31m             \u001b[0;32mreturn\u001b[0m \u001b[0mself\u001b[0m\u001b[0;34m.\u001b[0m\u001b[0m_get_item_cache\u001b[0m\u001b[0;34m(\u001b[0m\u001b[0mkey\u001b[0m\u001b[0;34m)\u001b[0m\u001b[0;34m\u001b[0m\u001b[0m\n\u001b[0m\u001b[1;32m   2696\u001b[0m \u001b[0;34m\u001b[0m\u001b[0m\n\u001b[1;32m   2697\u001b[0m         \u001b[0;31m# duplicate columns & possible reduce dimensionality\u001b[0m\u001b[0;34m\u001b[0m\u001b[0;34m\u001b[0m\u001b[0m\n",
      "\u001b[0;32m~/anaconda3/envs/signate/lib/python3.6/site-packages/pandas/core/generic.py\u001b[0m in \u001b[0;36m_get_item_cache\u001b[0;34m(self, item)\u001b[0m\n\u001b[1;32m   2487\u001b[0m         \u001b[0mres\u001b[0m \u001b[0;34m=\u001b[0m \u001b[0mcache\u001b[0m\u001b[0;34m.\u001b[0m\u001b[0mget\u001b[0m\u001b[0;34m(\u001b[0m\u001b[0mitem\u001b[0m\u001b[0;34m)\u001b[0m\u001b[0;34m\u001b[0m\u001b[0m\n\u001b[1;32m   2488\u001b[0m         \u001b[0;32mif\u001b[0m \u001b[0mres\u001b[0m \u001b[0;32mis\u001b[0m \u001b[0;32mNone\u001b[0m\u001b[0;34m:\u001b[0m\u001b[0;34m\u001b[0m\u001b[0m\n\u001b[0;32m-> 2489\u001b[0;31m             \u001b[0mvalues\u001b[0m \u001b[0;34m=\u001b[0m \u001b[0mself\u001b[0m\u001b[0;34m.\u001b[0m\u001b[0m_data\u001b[0m\u001b[0;34m.\u001b[0m\u001b[0mget\u001b[0m\u001b[0;34m(\u001b[0m\u001b[0mitem\u001b[0m\u001b[0;34m)\u001b[0m\u001b[0;34m\u001b[0m\u001b[0m\n\u001b[0m\u001b[1;32m   2490\u001b[0m             \u001b[0mres\u001b[0m \u001b[0;34m=\u001b[0m \u001b[0mself\u001b[0m\u001b[0;34m.\u001b[0m\u001b[0m_box_item_values\u001b[0m\u001b[0;34m(\u001b[0m\u001b[0mitem\u001b[0m\u001b[0;34m,\u001b[0m \u001b[0mvalues\u001b[0m\u001b[0;34m)\u001b[0m\u001b[0;34m\u001b[0m\u001b[0m\n\u001b[1;32m   2491\u001b[0m             \u001b[0mcache\u001b[0m\u001b[0;34m[\u001b[0m\u001b[0mitem\u001b[0m\u001b[0;34m]\u001b[0m \u001b[0;34m=\u001b[0m \u001b[0mres\u001b[0m\u001b[0;34m\u001b[0m\u001b[0m\n",
      "\u001b[0;32m~/anaconda3/envs/signate/lib/python3.6/site-packages/pandas/core/internals.py\u001b[0m in \u001b[0;36mget\u001b[0;34m(self, item, fastpath)\u001b[0m\n\u001b[1;32m   4113\u001b[0m \u001b[0;34m\u001b[0m\u001b[0m\n\u001b[1;32m   4114\u001b[0m             \u001b[0;32mif\u001b[0m \u001b[0;32mnot\u001b[0m \u001b[0misna\u001b[0m\u001b[0;34m(\u001b[0m\u001b[0mitem\u001b[0m\u001b[0;34m)\u001b[0m\u001b[0;34m:\u001b[0m\u001b[0;34m\u001b[0m\u001b[0m\n\u001b[0;32m-> 4115\u001b[0;31m                 \u001b[0mloc\u001b[0m \u001b[0;34m=\u001b[0m \u001b[0mself\u001b[0m\u001b[0;34m.\u001b[0m\u001b[0mitems\u001b[0m\u001b[0;34m.\u001b[0m\u001b[0mget_loc\u001b[0m\u001b[0;34m(\u001b[0m\u001b[0mitem\u001b[0m\u001b[0;34m)\u001b[0m\u001b[0;34m\u001b[0m\u001b[0m\n\u001b[0m\u001b[1;32m   4116\u001b[0m             \u001b[0;32melse\u001b[0m\u001b[0;34m:\u001b[0m\u001b[0;34m\u001b[0m\u001b[0m\n\u001b[1;32m   4117\u001b[0m                 \u001b[0mindexer\u001b[0m \u001b[0;34m=\u001b[0m \u001b[0mnp\u001b[0m\u001b[0;34m.\u001b[0m\u001b[0marange\u001b[0m\u001b[0;34m(\u001b[0m\u001b[0mlen\u001b[0m\u001b[0;34m(\u001b[0m\u001b[0mself\u001b[0m\u001b[0;34m.\u001b[0m\u001b[0mitems\u001b[0m\u001b[0;34m)\u001b[0m\u001b[0;34m)\u001b[0m\u001b[0;34m[\u001b[0m\u001b[0misna\u001b[0m\u001b[0;34m(\u001b[0m\u001b[0mself\u001b[0m\u001b[0;34m.\u001b[0m\u001b[0mitems\u001b[0m\u001b[0;34m)\u001b[0m\u001b[0;34m]\u001b[0m\u001b[0;34m\u001b[0m\u001b[0m\n",
      "\u001b[0;32m~/anaconda3/envs/signate/lib/python3.6/site-packages/pandas/core/indexes/base.py\u001b[0m in \u001b[0;36mget_loc\u001b[0;34m(self, key, method, tolerance)\u001b[0m\n\u001b[1;32m   3078\u001b[0m                 \u001b[0;32mreturn\u001b[0m \u001b[0mself\u001b[0m\u001b[0;34m.\u001b[0m\u001b[0m_engine\u001b[0m\u001b[0;34m.\u001b[0m\u001b[0mget_loc\u001b[0m\u001b[0;34m(\u001b[0m\u001b[0mkey\u001b[0m\u001b[0;34m)\u001b[0m\u001b[0;34m\u001b[0m\u001b[0m\n\u001b[1;32m   3079\u001b[0m             \u001b[0;32mexcept\u001b[0m \u001b[0mKeyError\u001b[0m\u001b[0;34m:\u001b[0m\u001b[0;34m\u001b[0m\u001b[0m\n\u001b[0;32m-> 3080\u001b[0;31m                 \u001b[0;32mreturn\u001b[0m \u001b[0mself\u001b[0m\u001b[0;34m.\u001b[0m\u001b[0m_engine\u001b[0m\u001b[0;34m.\u001b[0m\u001b[0mget_loc\u001b[0m\u001b[0;34m(\u001b[0m\u001b[0mself\u001b[0m\u001b[0;34m.\u001b[0m\u001b[0m_maybe_cast_indexer\u001b[0m\u001b[0;34m(\u001b[0m\u001b[0mkey\u001b[0m\u001b[0;34m)\u001b[0m\u001b[0;34m)\u001b[0m\u001b[0;34m\u001b[0m\u001b[0m\n\u001b[0m\u001b[1;32m   3081\u001b[0m \u001b[0;34m\u001b[0m\u001b[0m\n\u001b[1;32m   3082\u001b[0m         \u001b[0mindexer\u001b[0m \u001b[0;34m=\u001b[0m \u001b[0mself\u001b[0m\u001b[0;34m.\u001b[0m\u001b[0mget_indexer\u001b[0m\u001b[0;34m(\u001b[0m\u001b[0;34m[\u001b[0m\u001b[0mkey\u001b[0m\u001b[0;34m]\u001b[0m\u001b[0;34m,\u001b[0m \u001b[0mmethod\u001b[0m\u001b[0;34m=\u001b[0m\u001b[0mmethod\u001b[0m\u001b[0;34m,\u001b[0m \u001b[0mtolerance\u001b[0m\u001b[0;34m=\u001b[0m\u001b[0mtolerance\u001b[0m\u001b[0;34m)\u001b[0m\u001b[0;34m\u001b[0m\u001b[0m\n",
      "\u001b[0;32mpandas/_libs/index.pyx\u001b[0m in \u001b[0;36mpandas._libs.index.IndexEngine.get_loc\u001b[0;34m()\u001b[0m\n",
      "\u001b[0;32mpandas/_libs/index.pyx\u001b[0m in \u001b[0;36mpandas._libs.index.IndexEngine.get_loc\u001b[0;34m()\u001b[0m\n",
      "\u001b[0;32mpandas/_libs/hashtable_class_helper.pxi\u001b[0m in \u001b[0;36mpandas._libs.hashtable.PyObjectHashTable.get_item\u001b[0;34m()\u001b[0m\n",
      "\u001b[0;32mpandas/_libs/hashtable_class_helper.pxi\u001b[0m in \u001b[0;36mpandas._libs.hashtable.PyObjectHashTable.get_item\u001b[0;34m()\u001b[0m\n",
      "\u001b[0;31mKeyError\u001b[0m: 'datetime'"
     ]
    }
   ],
   "source": [
    "import matplotlib.pyplot as plt\n",
    "check_df = pd.DataFrame()\n",
    "check_df[\"date\"] = nikko_test[\"datetime\"]\n",
    "check_df.index = pd.to_datetime(check_df[\"date\"])\n",
    "\n",
    "fig = plt.figure(figsize=[16,8])\n",
    "check_df[\"visitors\"] = y_pred\n",
    "by_weekday = check_df.groupby(check_df.index.dayofweek)\n",
    "plt.plot(['Mon', 'Tues', 'Wed', 'Thurs', 'Fri', 'Sat', 'Sun'],by_weekday.mean())"
   ]
  },
  {
   "cell_type": "code",
   "execution_count": 109,
   "metadata": {},
   "outputs": [
    {
     "data": {
      "text/plain": [
       "0         AxesSubplot(0.1,0.679412;0.235294x0.220588)\n",
       "1    AxesSubplot(0.382353,0.679412;0.235294x0.220588)\n",
       "2    AxesSubplot(0.664706,0.679412;0.235294x0.220588)\n",
       "3         AxesSubplot(0.1,0.414706;0.235294x0.220588)\n",
       "4    AxesSubplot(0.382353,0.414706;0.235294x0.220588)\n",
       "5    AxesSubplot(0.664706,0.414706;0.235294x0.220588)\n",
       "6             AxesSubplot(0.1,0.15;0.235294x0.220588)\n",
       "dtype: object"
      ]
     },
     "execution_count": 109,
     "metadata": {},
     "output_type": "execute_result"
    },
    {
     "data": {
      "text/plain": [
       "<Figure size 1440x720 with 0 Axes>"
      ]
     },
     "metadata": {},
     "output_type": "display_data"
    },
    {
     "data": {
      "image/png": "[encoded data removed]",
      "text/plain": [
       "<Figure size 432x288 with 9 Axes>"
      ]
     },
     "metadata": {
      "needs_background": "light"
     },
     "output_type": "display_data"
    }
   ],
   "source": [
    "plt.figure(figsize=[20,10])\n",
    "by_weekday.boxplot()"
   ]
  },
  {
   "cell_type": "code",
   "execution_count": 48,
   "metadata": {},
   "outputs": [],
   "source": [
    "yt = pd.read_table(\"/Users/abhishekkumar/Documents/MS_UB/Fall_18/ESL506_StatisticalDataMiningI/Project/SIGNATE/translated/'ttrain.tsv'.txt\")\n",
    "\n"
   ]
  },
  {
   "cell_type": "code",
   "execution_count": 50,
   "metadata": {},
   "outputs": [
    {
     "data": {
      "text/plain": [
       "8790.335852676615"
      ]
     },
     "execution_count": 50,
     "metadata": {},
     "output_type": "execute_result"
    }
   ],
   "source": [
    "np.std(yt[\"visitors\"])"
   ]
  },
  {
   "cell_type": "code",
   "execution_count": null,
   "metadata": {},
   "outputs": [],
   "source": []
  }
 ],
 "metadata": {
  "kernelspec": {
   "display_name": "Python [conda env:signate]",
   "language": "python",
   "name": "conda-env-signate-py"
  },
  "language_info": {
   "codemirror_mode": {
    "name": "ipython",
    "version": 3
   },
   "file_extension": ".py",
   "mimetype": "text/x-python",
   "name": "python",
   "nbconvert_exporter": "python",
   "pygments_lexer": "ipython3",
   "version": "3.6.6"
  }
 },
 "nbformat": 4,
 "nbformat_minor": 2
}
