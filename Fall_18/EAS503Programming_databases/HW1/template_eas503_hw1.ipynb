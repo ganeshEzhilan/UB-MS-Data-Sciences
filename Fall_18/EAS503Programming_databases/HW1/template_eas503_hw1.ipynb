{
 "cells": [
  {
   "cell_type": "markdown",
   "metadata": {},
   "source": [
    "## EAS 503 Homework 1 Submission\n",
    "Name - Abhishek Kumar\n",
    "\n",
    "**Make sure that you rename the notebook file to *replacewithubitname*_eas503_hw1.ipynb**\n",
    "\n",
    "\n",
    "### Submission Details\n",
    "* **Due Date** - September 25, 2018 by 11:59 PM EST. All assignments have to be submitted using UBLearns.\n",
    "* **Number of Problems** - 4\n",
    "* **Maximum points** - 50\n",
    "* **Collaboration policy**\n",
    " - Every student has to submit individual homeworks\n",
    " - Any collaboration, in the form of discussion, with other members of the class is permitted, as long as the names of the collaborating members are explicitly stated on top of the submitted homework.\n",
    " - Any overlap with another submission or material from Internet will be awarded an F.\n",
    "* **Late submission policy** - _No late submissions allowed_\n",
    "* **Submission Format** - Enter code for each problem in the appropriate cell below. You may use multiple cells for a single problem to improve readability.\n",
    "* **Testing Protocol** - To grade, we will simply execute your notebook from command line using the following command:\n",
    "```shell\n",
    "jupyter nbconvert --execute <notebook>\n",
    "```\n",
    "Please make sure that your notebook produces the desired output with the above command, before submitting."
   ]
  },
  {
   "cell_type": "markdown",
   "metadata": {},
   "source": [
    "### Problem 1 - Testing for  Fibonacci Number (10 Points)\n",
    "Develop functions to handle [Fibonacci numbers](http://mathworld.wolfram.com/FibonacciNumber.html). Try to design the quickest possible algorithm and record the time taken for the code to run.\n",
    "\n",
    "Test if a number belongs to the Fibonacci series, using `if-else` conditions. The logic of testing if a number, $n$, belongs to the Fibonacci series is: if one or both of $(5*n^2 + 4)$ or $(5*n^2 – 4)$ is a perfect square.\n",
    "\n",
    "Here is what you need to do:\n",
    "1. You will need to implement the function `fibonacciGenerator`, which takes no inputs. The function should return a Python `list` of length 25, with first 25 Fibonacci numbers.\n",
    "2. You will need to define a function `fibonacciTester`, which takes a single number as input, and returns `true` if the number belongs to the Fibonacci series, and `false` otherwise. "
   ]
  },
  {
   "cell_type": "code",
   "execution_count": 2,
   "metadata": {},
   "outputs": [
    {
     "name": "stdout",
     "output_type": "stream",
     "text": [
      "[0, 1, 1, 2, 3, 5, 8, 13, 21, 34, 55, 89, 144, 233, 377, 610, 987, 1597, 2584, 4181, 6765, 10946, 17711, 28657, 46368]\n",
      "The code took 0 seconds.\n"
     ]
    }
   ],
   "source": [
    "def fibonacciGenerator():\n",
    "    # enter your code here, remember to return the actual list of Fibonacci numbers\n",
    "    initial_list = [0,1]\n",
    "    for x in range (2,25):\n",
    "        initial_list.append(initial_list[x-1]+initial_list[x-2])\n",
    "    return initial_list\n",
    "\n",
    "import time\n",
    "st = time.time()\n",
    "l = fibonacciGenerator()\n",
    "en = time.time()\n",
    "print(l)\n",
    "print(\"The code took %d seconds.\"%(en - st))"
   ]
  },
  {
   "cell_type": "code",
   "execution_count": 127,
   "metadata": {},
   "outputs": [
    {
     "name": "stdout",
     "output_type": "stream",
     "text": [
      "True\n",
      "True\n",
      "True\n",
      "False\n",
      "True\n",
      "False\n",
      "False\n",
      "True\n",
      "False\n",
      "False\n",
      "False\n",
      "False\n",
      "True\n",
      "False\n",
      "False\n",
      "False\n",
      "False\n",
      "False\n",
      "False\n",
      "False\n",
      "The code took 0 seconds.\n"
     ]
    }
   ],
   "source": [
    "import math\n",
    "def fibonacciTester(n):\n",
    "    # enter your code here, remember to return the actual list of Fibonacci numbers\n",
    "    try:\n",
    "        is_perfect_square = lambda x : int(math.sqrt(x)+0.5)**2 == x    #https://stackoverflow.com/questions/2489435/how-could-i-check-if-a-number-is-a-perfect-square\n",
    "        is_fib = lambda y,z : (is_perfect_square(y) or is_perfect_square(z))\n",
    "        return is_fib(5*math.pow(n,2)+4, 5*math.pow(n,2)-4) \n",
    "    except:\n",
    "        raise ValueError\n",
    "\n",
    "import time\n",
    "st = time.time()\n",
    "for i in range(1,21):\n",
    "    v = fibonacciTester(i)\n",
    "    print(v)\n",
    "en = time.time()\n",
    "print(\"The code took %d seconds.\"%(en - st))"
   ]
  },
  {
   "cell_type": "markdown",
   "metadata": {},
   "source": [
    "### Problem 2 - Handling Exceptions (10 Points)\n",
    "In this problem you will read from a text file (**data_p2.txt**) included in the assignment. Please download it and store it in the same directory as this notebook. The code for reading data from the file is given below. You need to store the data and perform a simple mathematical operation on each data point. Each line is _supposed_ to contain a floating point number. But what you will observe is that some lines might have erroneous entries. You need to ignore those lines (Hint: Use `Exception` handling). \n",
    "\n",
    "The idea is to implement a function, `computeMedian()`, which reads in a file and computes the median of the numbers and returns the output. You may use the inbuilt function `sort` when computing the median.\n",
    "\n",
    "_DO NOT USE ANY INBUILT OR OTHER FUNCTION TO DIRECTLY COMPUTE MEDIAN_"
   ]
  },
  {
   "cell_type": "code",
   "execution_count": 128,
   "metadata": {},
   "outputs": [],
   "source": [
    "# Reading from a file. The following code just reads in every line in a text file without doing anything with it.\n",
    "# You can use the code in your solution. Do not call this function in your implementation.\n",
    "def dummyFileReader():\n",
    "    with open('data_p2.txt','r') as f: #we open the file in 'read' mode. The 'with' clause is similar to 'finally' clause\n",
    "        for line in f: #iterate over the file line by line\n",
    "            s = line.strip() #strip() removes the endline character at the end of the line. Line is of type 'str'"
   ]
  },
  {
   "cell_type": "code",
   "execution_count": 1,
   "metadata": {},
   "outputs": [
    {
     "name": "stdout",
     "output_type": "stream",
     "text": [
      "0.499675\n"
     ]
    }
   ],
   "source": [
    "import statistics\n",
    "def computeMedian():\n",
    "    num_list = []\n",
    "    try:\n",
    "        with open('data_p2.txt','r') as f:\n",
    "            for line in f:\n",
    "                s = line.strip()\n",
    "                try:\n",
    "                    num_list.append(float(s))\n",
    "                except:\n",
    "                    pass\n",
    "    except:\n",
    "        print (\" File not Found\")\n",
    "    \n",
    "    num_list.sort()\n",
    "    size = len(num_list)\n",
    "    if (size%2==0):\n",
    "        return (num_list[int(len(num_list)/2 - 1 )] + num_list[int(len(num_list)/2)])/2\n",
    "    else:\n",
    "        return num_list[int(len(num_list)/2)]\n",
    "\n",
    "\n",
    "print(computeMedian())"
   ]
  },
  {
   "cell_type": "markdown",
   "metadata": {},
   "source": [
    "### Problem 3 - Benchmarking Dictionary Performance (10 Points)\n",
    "We want to check the peformance of the Python inbuilt `del` routine for dropping elements from a dictionary. The question that we want answer for is: \n",
    "_Does the time required to delete an element from a Python dictionary depend on the size of the dictionary and on the location of the target element?_\n",
    "\n",
    "In each step of the experiment do the following: \n",
    "- Create a dictionary of integers from 1 to N, with your own desired keys. \n",
    "- Within a loop, delete the $i^{th}$ element. Measure the time taken to delete the element (Hint: use the `time` package in Python).\n",
    "\n",
    "Conduct the above experiment for $N = 1,000,000$ and $i$ ranging from $1$ to $1,000,000$ in steps of $10,000$. Make sure that you are recreating the Python dictionary every time. Save the times in a list (let us name it `timeMillion`).\n",
    "\n",
    "Repeat the above experiment, but set $N = 10,000,000$. This time, vary $i$ from $1$ to $10,000,000$ in steps of $100,000$. Save the times for this experiment in another list, say, `time10Million`.\n",
    "\n",
    "Plot the two lists using the `matplotlib.pyplot` package. See below for a sample code. You can plot both lists in the same chart to compare.\n",
    "\n",
    "Using the plots, answer the following (create a markup cell after your code cell(s) and enter your responses):\n",
    "1. Does the cost of deleting an element depend on the dictionary size?\n",
    "2. Does the cost of deleting an element depend on the location of the deleted element?\n",
    "\n"
   ]
  },
  {
   "cell_type": "code",
   "execution_count": null,
   "metadata": {},
   "outputs": [],
   "source": [
    "# This cell is only for demonstration purposes, you can reuse parts of this code to create your own plots\n",
    "# Using matplotlib for plotting\n",
    "import matplotlib.pyplot as plt\n",
    "%matplotlib inline \n",
    "# above line is needed to make sure that the plots are displayed in the notebook.\n",
    "\n",
    "#generate some dummy data\n",
    "x = list(range(0, 20)) # generate a list\n",
    "y = [x1**2+2*x1 for x1 in x] # create a new list using the original list. Note the Pythonic inline creation of lists.\n",
    "y1 = [x1**2.3 for x1 in x]\n",
    "plt.plot(x,y)\n",
    "plt.plot(x,y1)"
   ]
  },
  {
   "cell_type": "code",
   "execution_count": 14,
   "metadata": {},
   "outputs": [
    {
     "data": {
      "text/plain": [
       "<matplotlib.legend.Legend at 0x1426f9e10>"
      ]
     },
     "execution_count": 14,
     "metadata": {},
     "output_type": "execute_result"
    },
    {
     "data": {
      "image/png": "[encoded data removed]",
      "text/plain": [
       "<Figure size 432x288 with 1 Axes>"
      ]
     },
     "metadata": {},
     "output_type": "display_data"
    }
   ],
   "source": [
    "# Enter your solution here\n",
    "import time\n",
    "import matplotlib.pyplot as plt\n",
    "%matplotlib inline \n",
    "\n",
    "millionDict = {}\n",
    "tenMillionDict = {}\n",
    "timeMillion = []\n",
    "time10Million = []\n",
    "\n",
    "\n",
    "#\n",
    "for i in range(1, 1000001, 10000):\n",
    "    for j in range (1, 1000001):\n",
    "        millionDict[j] = j\n",
    "    s = time.time()\n",
    "    del millionDict[i]\n",
    "    e = time.time()\n",
    "    timeMillion.append(e-s)\n",
    "\n",
    "#\n",
    "for i in range(1, 10000001, 100000):\n",
    "    for j in range (1, 10000001):\n",
    "        tenMillionDict[j] = j\n",
    "    s = time.time()\n",
    "    del tenMillionDict[i]\n",
    "    e = time.time()\n",
    "    time10Million.append(e-s)  \n",
    "\n",
    "x = list(range(1, 101))\n",
    "plt.plot(x,timeMillion, 'b',label='timeMillion')\n",
    "plt.plot(x,time10Million, 'r',label='time10Million')\n",
    "plt.ylabel('time')\n",
    "plt.xlabel('deletion on iteration')\n",
    "plt.legend(loc='upper center', shadow=True, fontsize='large')"
   ]
  },
  {
   "cell_type": "markdown",
   "metadata": {},
   "source": [
    "In python, dictionaries are indexed by keys and keys are hashed to store elements into memory. So deleting elements from a dictionary does not depend on the size of the dictionary or the location of the element in the dictionary.\n",
    "In our plot we can see that the time taken to delete is almost same but in some iterations due to noise in measuring time(hardware limitaions probably) it is varying.\n",
    "\n",
    "Does the cost of deleting an element depend on the dictionary size?\n",
    "No\n",
    "Does the cost of deleting an element depend on the location of the deleted element?\n",
    "No"
   ]
  },
  {
   "cell_type": "markdown",
   "metadata": {},
   "source": [
    "## Problem 4 - The Two Envelopes Problem (20 Points)\n",
    "The Two Envelopes problem is an interesting decision theory problem.\n",
    "\n",
    "> Consider that you are given two indistinguishable envelopes, each containing money, one contains twice as much as the other. You may pick one envelope and keep the money it contains. Having chosen an envelope at will, but before inspecting it, you are given the chance to switch envelopes. Should you switch?\n",
    "\n",
    "> The game is this: _stick_ or _switch_; It seems obvious that there is no point in switching envelopes as the situation is symmetric. However, because you stand to gain twice as much money if you switch while risking only a loss of half of what you currently have, it is possible to argue that it is more beneficial to switch.The problem is to show what is wrong with this argument.\n",
    "\n",
    "**Two Envelopes problem**: Implement a function, called `simulateProblem()`, that does the game simulation for the two envelopes problem. Run the simulation 1000 times to figure out the empirical (observed) probability of gaining more money when switching and gaining more money when sticking to the original choice. Each simulation operates as follows:\n",
    "1. First, randomly pick an envelopes configuration out of the two possible configurations, $(A,2A)$ or $(2A,A)$. In the first configuration, the second envelope has twice the money and in the second configuration, the first envelope has twice the money.\n",
    "2. Next, randomly pick one of the two envelopes. \n",
    "3. Finally, randomly choose to either stick or switch. The program checks if you won (the envelope that picked has more money) or not (the envelope that picked has less money). In case of winning, record if the winning was because of _sticking_ or _switching_.\n",
    "\n",
    "You can perform the _random_ choice as follows, using the `np.random.randint()` method.\n",
    "```python\n",
    "import numpy as np\n",
    "print(np.random.randint(2))\n",
    "```\n",
    "The `simulateProblem()` function takes no arguments and returns two values, first is a boolean output which is `True` if you win and `False` if you lose. In case of a win, the second output is `True` if the win was due to _sticking_ and `False` if the win was due to _switching_.\n",
    "\n",
    "Once the method `simulateProblem()` that does the above steps and returns _sticking_,or _switching_, depending on the win/loss scenario, run the method 1000 times and count the number of times the win was due to _sticking_ to the pick in Step 2, and number of times the win was due to _switching_ the envelope."
   ]
  },
  {
   "cell_type": "code",
   "execution_count": 1,
   "metadata": {},
   "outputs": [
    {
     "name": "stdout",
     "output_type": "stream",
     "text": [
      "0.235 0.259\n"
     ]
    }
   ],
   "source": [
    "import numpy as np\n",
    "def simulateProblem():\n",
    "    # Enter your solution here\n",
    "    stick = 0\n",
    "    switch = 1\n",
    "    configs = [(1,2), (2,1)]\n",
    "    \n",
    "    config_selected = configs[np.random.randint(2)]\n",
    "    key = np.random.randint(2)\n",
    "    envelop_selected = config_selected[key]\n",
    "    switch_or_not = np.random.randint(2)\n",
    "    envelop_selected = config_selected[(key + switch_or_not)%2]\n",
    "    win = True if envelop_selected == 2 else False\n",
    "    win_due_sticking = True if switch_or_not == 0 else False\n",
    "    \n",
    "    \n",
    "    return win, win_due_sticking\n",
    "\n",
    "# add more code belwo to count the number of wins due to sticking and switching\n",
    "# and finally compute the desired probabilities\n",
    "count_win_sticking = 0\n",
    "count_win_switching = 0\n",
    "for i in range(1000):\n",
    "    wl,ss = simulateProblem()\n",
    "    win = wl\n",
    "    win_due_sticking = ss\n",
    "    if win == True:\n",
    "        if win_due_sticking:\n",
    "            count_win_sticking = count_win_sticking + 1\n",
    "            #print(\"count_win_sticking: \"+str(count_win_sticking))\n",
    "        else:\n",
    "            count_win_switching = count_win_switching + 1\n",
    "            #print(\"count_win_switching: \"+ str(count_win_switching))\n",
    "            \n",
    "win_prob_sticking = count_win_sticking/1000\n",
    "win_prob_switching = count_win_switching/1000\n",
    "print(win_prob_sticking, win_prob_switching)"
   ]
  },
  {
   "cell_type": "markdown",
   "metadata": {},
   "source": [
    "### Which is better - sticking or switching?\n",
    "Use the simulation results to figure out the right answer."
   ]
  },
  {
   "cell_type": "markdown",
   "metadata": {},
   "source": [
    "They lost 50% of the time and won almost 50% of the time. They won ~25% due to sticking and ~25% due to switching. So, we can say that none of the technique of sticking or switching provides any advantage in winning. So both the techniques are same."
   ]
  }
 ],
 "metadata": {
  "kernelspec": {
   "display_name": "Python 3",
   "language": "python",
   "name": "python3"
  },
  "language_info": {
   "codemirror_mode": {
    "name": "ipython",
    "version": 3
   },
   "file_extension": ".py",
   "mimetype": "text/x-python",
   "name": "python",
   "nbconvert_exporter": "python",
   "pygments_lexer": "ipython3",
   "version": "3.6.5"
  }
 },
 "nbformat": 4,
 "nbformat_minor": 2
}
