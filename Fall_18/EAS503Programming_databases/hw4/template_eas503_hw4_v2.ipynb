{
 "cells": [
  {
   "cell_type": "markdown",
   "metadata": {},
   "source": [
    "## EAS 503 Homework 4 Submission\n",
    "Name - _Enter your name here_\n",
    "\n",
    "**Make sure that you rename the notebook file to *replacewithubitname*_eas503_hw4.ipynb**\n",
    "\n",
    "\n",
    "### Submission Details \n",
    "### Submit on UBLearns\n",
    "\n",
    "* **Due Date** - December 5, 2018 by 11.59 PM PST. All assignments have to be submitted using UBLearns.\n",
    "* **Number of Problems** - 1 \n",
    "* **Maximum points** - 50\n",
    "* **Collaboration policy**\n",
    " - Every student has to submit individual homeworks\n",
    " - Any collaboration, in the form of discussion, with other members of the class is permitted, as long as the names of the collaborating members are explicitly stated on top of the submitted homework.\n",
    " - Any overlap with another submission or material from Internet will be awarded an F.\n",
    "* **Late submission policy** - _No late submissions allowed_\n",
    "* **Submission Format** - Enter code for each problem in the appropriate cell below. You may use multiple cells for a single problem to improve readability."
   ]
  },
  {
   "cell_type": "markdown",
   "metadata": {},
   "source": [
    "### Problem 1 - Chicago Crime Dataset (50 points)\n",
    "\n",
    "Recall the Chicago Crime Data that was used in HW3. In this HW you are provided with 3 data files namely `chicago_crime_data_1.csv`, `chicago_crime_data_2.csv` and `primary_type_id.csv`.  The `chicago_crime_data_1.csv` contains data pertaining to the details of the crime and the `chicago_crime_data_2.csv` has information about the location and type. Both the datasets have the Crime ID as the primary indicator. \n",
    "\n",
    "The `primary_type_id.csv` contains the mapping between the primary crime type to their corresponding ID.\n",
    "\n",
    "### Importing data\n",
    "From the command line, execute the following command (assuming your current directory contains the homework files):\n",
    "```bash\n",
    "mysql --local-infile -u root -proot < setupdb.sql\n",
    "```\n",
    "> _Note_: In some systems you might not need the `--local-infile` option, it depends on the mode in which the database server is running. If you are running it in default mode, you most likely will need that option\n",
    "\n",
    "The database is needed to verify that your queries are running correctly. But you do not have to submit the output of your queries. You only have to submit the queries and in some cases, the algebraic expression and the expression trees.\n",
    "### Problems\n",
    "You will be asked to create a single sql query that will result in the desired output. Wherever required, provide the algebraic expressions and expression trees.\n",
    "\n",
    "1. How many arrests were made for domestic crimes? (Query)\n",
    "\n",
    "2. Subset the list of crimes that occured at SIDEWALK and an arrest has been made. (Query, algebraic expression and expression tree)\n",
    "\n",
    "3. How many arrests were made for domestic crimes? (Query)\n",
    "\n",
    "4. Report all the case details available to the case number \"HZ237376\". (Query, algebraic expression and expression tree) \n",
    "\n",
    "5. What is the increase in the number of crimes involving thefts (primary crime type) from 2016 to 2017? (Query)\n",
    "\n",
    "6. List all the descriptions that occured in district 15 under the Primary Type ID = 11. Order them alphabetically. (Query)\n",
    "\n",
    "7. Average days between the crime incident date and last updated date. (Query)\n",
    "\n",
    "8. List the crimes that were committed on `4/30/2016` and updated on the same day. (Query, algebraic expression, expression tree)\n",
    "\n",
    "9. Subset the list of crimes in 2016 that were domestic and occured on a `STREET` and an arrest was made. (Query, algebraic expression, expression tree)\n",
    "\n",
    "10. Are there any crimes that involved `Telephone threats` that occured in District `10` and FBI code `30`? (Query, algebraic expression, expression tree)\n",
    "\n",
    "\n",
    "Submit the SQL query as a .txt file. The algebraic expressions and expression tree can be hand written and scanned and submitted through UBLearns as a single PDF file."
   ]
  },
  {
   "cell_type": "code",
   "execution_count": 1,
   "metadata": {},
   "outputs": [],
   "source": [
    "#Enter your solution here\n",
    "import MySQLdb"
   ]
  },
  {
   "cell_type": "code",
   "execution_count": 2,
   "metadata": {},
   "outputs": [
    {
     "name": "stdout",
     "output_type": "stream",
     "text": [
      "Database version : 436264 \n"
     ]
    }
   ],
   "source": [
    "db = MySQLdb.connect(\"localhost\",\"root\",\"iwilld0it\",\"hw4\" )\n",
    "\n",
    "# prepare a cursor object using cursor() method\n",
    "cursor = db.cursor()\n",
    "\n",
    "# execute SQL query using execute() method.\n",
    "cursor.execute(\"SELECT count(*) from crime_details\")\n",
    "\n",
    "# Fetch a single row using fetchone() method.\n",
    "data = cursor.fetchone()\n",
    "print (\"Database version : %s \" % data)\n",
    "\n",
    "# disconnect from server\n",
    "db.close()"
   ]
  },
  {
   "cell_type": "code",
   "execution_count": null,
   "metadata": {},
   "outputs": [],
   "source": [
    "1. select count(*) from crime_incidents where Arrest = \"True\" AND Domestic = \"True\";\n",
    "2. SELECT DISTINCT t.Primary_Type FROM CRIME_DETAILS d, CRIME_INCIDENTS i, CRIME_TYPES t WHERE d.Primary_Type_ID = t.Primary_Type_ID and \n",
    "d.Crime_ID = i.Crime_ID and d.Location_Description = \"SIDEWALK\" and i.Arrest = \"True\";\n",
    "3.\n",
    "4.SELECT * FROM CRIME_DETAILS d, CRIME_INCIDENTS i, CRIME_TYPES t WHERE d.Primary_Type_ID = t.Primary_Type_ID and \n",
    "d.Crime_ID = i.Crime_ID and i.Case_Number = \"HZ237376\";\n",
    "5.SELECT((SELECT COUNT(*) FROM CRIME_DETAILS d, CRIME_TYPES t WHERE t.Primary_Type_ID = d.Primary_Type_ID and t.Primary_Type = \"THEFT\" and d.Year = 2017)  - (SELECT COUNT(*) FROM CRIME_DETAILS d, CRIME_TYPES t WHERE t.Primary_Type_ID = d.Primary_Type_ID and t.Primary_Type = \"THEFT\" and d.Year = 2016) );"
   ]
  },
  {
   "cell_type": "code",
   "execution_count": null,
   "metadata": {},
   "outputs": [],
   "source": [
    "1.select count(*) from crime_incidents where Arrest = \"True\" AND Domestic = \"True\";\n",
    "2.select Primary_Type from crime_types T,(select Primary_Type_ID from crime_details D,(select Crime_ID from crime_incidents I where Arrest = \"True\") JD where D.Crime_ID = JD.Crime_ID AND D.Location_Description = \"SIDEWAlK\") JT where T.Primary_Type_ID = JT.Primary_Type_ID limit 10;\n",
    "2.select * from crime_details D,(select Crime_ID from crime_incidents I where Arrest = \"True\") JD where D.Crime_ID = JD.Crime_ID AND D.Location_Description = \"SIDEWAlK\" limit 10;\n",
    "4.select * from crime_details D JOIN crime_incidents I ON D.Case_Number = I.Case_Number WHERE D.Case_Number = \"HZ237376\";\n",
    "4.select * from crime_details D NATURAL JOIN crime_incidents I WHERE D.Case_Number = I.Case_Number AND D.Case_Number = \"HZ237376\";\n",
    "5.select(select count() from crime_details D,(select T.Primary_Type_ID from crime_types T where T.Primary_Type = \"BURGLARY\") JD where D.Primary_Type_ID = JD.Primary_Type_ID AND D.year = 2016) - (select count() from crime_details D,(select T.Primary_Type_ID from crime_types T where T.Primary_Type = \"BURGLARY\") JD where D.Primary_Type_ID = JD.Primary_Type_ID AND D.year = 2017)\n",
    "6.select D.Description from crime_details D ,(select I.Crime_ID from crime_incidents I where I.District = 15) JI where D.Crime_ID = JI.Crime_ID AND D.Primary_Type_ID = 11 ORDER BY D.Description ASC;\n",
    "7.select DISTINCT avg(Date(D.Updated_On) - Date(I.Date)) as Updated_Date from crime_incidents I JOIN crime_details D where D.Crime_ID = I.Crime_ID limit 30;\n",
    "8.select D.Crime_ID from crime_details D ,(select I.Crime_ID from crime_incidents I where Date(Date) = '2016-04-30') JD where D.Crime_ID = JD.Crime_ID AND Date(D.Updated_On) = '2016-04-30';\n",
    "9.select * from crime_details D ,(select I.Crime_ID from crime_incidents I where Arrest = 'True' AND Domestic = 'True') JD where D.Crime_ID = JD.Crime_ID AND D.Location_Description = 'STREET' AND D.year = 2016 limit 10;"
   ]
  }
 ],
 "metadata": {
  "kernelspec": {
   "display_name": "Python [conda env:EAS506]",
   "language": "python",
   "name": "conda-env-EAS506-py"
  },
  "language_info": {
   "codemirror_mode": {
    "name": "ipython",
    "version": 2
   },
   "file_extension": ".py",
   "mimetype": "text/x-python",
   "name": "python",
   "nbconvert_exporter": "python",
   "pygments_lexer": "ipython2",
   "version": "2.7.15"
  }
 },
 "nbformat": 4,
 "nbformat_minor": 2
}
