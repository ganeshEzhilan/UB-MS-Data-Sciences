{
 "cells": [
  {
   "cell_type": "markdown",
   "metadata": {},
   "source": [
    "## EAS 503 Homework 2 Submission\n",
    "Name - _Enter your name here_\n",
    "\n",
    "**Make sure that you rename the notebook file to *replacewithubitname*_eas503_hw2.ipynb**\n",
    "\n",
    "\n",
    "### Submission Details \n",
    "* **Due Date** - October 16, 2018 by 11:59 PM EST. All assignments have to be submitted using UBLearns.\n",
    "* **Number of Problems** - 4 \n",
    "* **Maximum points** - 50\n",
    "* **Collaboration policy**\n",
    " - Every student has to submit individual homeworks\n",
    " - Any collaboration, in the form of discussion, with other members of the class is permitted, as long as the names of the collaborating members are explicitly stated on top of the submitted homework.\n",
    " - Any overlap with another submission or material from Internet will be awarded an F.\n",
    "* **Late submission policy** - _No late submissions allowed_\n",
    "* **Submission Format** - Enter code for each problem in the appropriate cell below. You may use multiple cells for a single problem to improve readability."
   ]
  },
  {
   "cell_type": "markdown",
   "metadata": {},
   "source": [
    "### Problem 1 - Inheritance and Encapsulation (15 points)\n",
    "\n",
    "Consider a class of credit card accounts. A credit card account can have 2 types of credit cards:\n",
    "1. Primary card  \n",
    "2. Supplement card (Sup-card)\n",
    "\n",
    "Consider the following attributes of the cards:\n",
    "\n",
    "- A primary account is the main account to which multiple sup-cards are linked. \n",
    "\n",
    "- The primary credit card holder will be responsible for the bill payments for all the transactions on the primary card itself as well as all its supplimentary cards. \n",
    "\n",
    "- There are two types of credit limits:\n",
    "\n",
    "    1. Individual card limit (limiting the excpenditure per card)\n",
    "\n",
    "    2. Account limit (limiting the total expenditure on primiary and the related sup-cards)\n",
    "\n",
    "Account Limit >= Individual Card Limit\n",
    "\n",
    "- There are two types of expenditure (or balances):\n",
    "\n",
    "    1. Individual card expenditure (different for each card irrepsective of primary or otherwise)\n",
    "\n",
    "    2. Account expenditure (total spending on primary and all the related sup-cards)\n",
    "\n",
    "$$Account expenditure = \\Sigma(Individual card expenditure )$$ \n",
    "\n",
    "\n",
    "- Each sup-card has the same individual credit limit as the primary credit card. \n",
    "\n",
    "- Any transaction over the permitted limits must be denied i.e. if the a transaction leaves the total account expenditure exceeds the `account limit`, such transaction, on any of the cards linked to the account (primary or sup-card), will be denied. Also, for any sup-card that has expenditure over the individual card limit, further transactions must be blocked.  \n",
    "\n",
    "For this problem, design a class `PrimaryCard` with all the account details and primary credit card details included in the class. Construct a sub-class of supplementary card holder, `SupplementaryCard`, linked to a primary credit card account. Ensure that the sensitive details of all the accounts (credit card numbers, balance, account limit etc.) must saved and accessed securely. \n",
    "\n",
    "Use the `Account_details.txt` file to access the account details for 15 credit cards. The transaction details for the month of october are provided in `transaction.txt` file. Design an algorithm to update the account balance on all the accounts and plot the final account balance on each day for the month of october."
   ]
  },
  {
   "cell_type": "code",
   "execution_count": null,
   "metadata": {
    "collapsed": true
   },
   "outputs": [],
   "source": [
    "#Enter your solution here"
   ]
  },
  {
   "cell_type": "markdown",
   "metadata": {},
   "source": [
    "### Problem 2 - Polynomials (15 Points)\n",
    "\n",
    "Consider a general form of an nth order polynomial. You are asked to implement a polynomial of arbitrary degree using classes in python. For instance consider the polynomial:\n",
    "$$7x^4 + 2x^2 + 5 = 0$$\n",
    "\n",
    "For this implements the following steps:\n",
    "1. Implement a class that represents a single term. \n",
    "2. Implement a class for the entire polynomial. \n",
    "3. Implement an operator ($*$) to multiply two single terms, a term and a polynomial, and two polynomials. (__Note__: _you can overload the $*$ operator in Python by defining a method called ``__mul__(self,other):`` and make it mutiply the ``self`` object with the ``other`` object)\n",
    "4. Implement an operator(s) that enables addition of a term and a polynomial and/or two polynomials. (__Note__: _you can overload the  $+$  operator in Python by defining a method called ``__add__(self,other)``: and make it add the self object with the other object)\n",
    "5. Implement the following two internal methods within ``Polynomial`` class:\n",
    "    - ``order()``, which returns the order of the polynomial (as an ``int``).\n",
    "    - ``solve()``, which returns solutions for the polynomial (a ``list`` of roots). Only do it for quadratic polynomials, and raise an exception for higher order polynomials.\n",
    "6. Implement an external function that plots the polynomial on a domain of [-10,10] (you will have to use _matplotlib_ rountines for this).\n",
    "7. Include a destructor function for the polynomial class.\n",
    "\n",
    "Use the above class definitions and operators to generate the solutions (wherever needed) for the following set of polynomials:\n",
    "\n",
    "1. $x^5 -3x^3 +9x^2+5x+6=0$\n",
    "2. $x^3 -8x +5=0$\n",
    "3. $x^2+9x+7=0$\n",
    "3. Consider the following three polynomials: $f(x)=3x-1,$ $g(x)=x^2-2$ and $p(x)=8x^2 +4$. Plot the function $f(x)-g(x)*p(x)=0$ by taking $f,g,p$ as input functions. For this, use the ``__mul__(self,other)`` and ``__add__(self,other)`` methods.\n",
    "\n",
    "Note: Here you are basically asked to define the basis for the vector space of real polynomials and define all the vector operations."
   ]
  },
  {
   "cell_type": "code",
   "execution_count": 2,
   "metadata": {
    "collapsed": true
   },
   "outputs": [],
   "source": [
    "#Enter your solution here"
   ]
  },
  {
   "cell_type": "markdown",
   "metadata": {},
   "source": [
    "### Problem 3 - Random Walk (10 Points)\n",
    "\n",
    "Imagine you are standing at (0,0) on the real plane. At every time step, assume you either take a step of random length, say `c`, in one of the four directions (right, left, up, down) with equal probability. This means that after one time step, your new location can be (c,0), (-c,0), (0,c) or (0,-c) with equal probability.\n",
    "\n",
    "For this, create a class `Walker`. The class needs to store the following information:\n",
    "- current position of the walker, where the position is a 2-tuple. You can initialize it to (0,0)\n",
    "- path taken so far by the walker (initially this list will only contain the current position)\n",
    "- method called ``getDirection()`` that determines the direction for the next step (one out of four possible directions: right, left, up, down). To determine the direction, sample a random value from the set {1,2,3,4} using `np.random.randint(0,N)` and assign each outcome to a unit step movement in a particular direction.\n",
    "- method called ``getLength()`` that determines the length for the next step (one out of six possible lengths: 0,1,2,3,4,5). To determine the length, sample a random value from the set {1,2,3,4,5,6} using `np.random.randint(0,N)` and assign each outcome to a step length.\n",
    "- method called ``walk()`` which changes the current position of the walker in a specifed direction. Make sure to update the path field to incorporate the next position.\n",
    "\n",
    "After implementing the `Walker` class, you need to conduct the following experiment.\n",
    "Suppose you want to figure out, how many steps will it take for the walker to go outside a pre-defined perimeter (centered at (0,0)). You will have simulate a random walk and keep checking the current position to figure that out. \n",
    "\n",
    "Write a code to run the following simulation:\n",
    "Starting from (0,0), have your walker randomly walk around (using the defined ``walk()`` method), until it steps out of a rectangular area with vertices as: (-10,-10), (-20,20), (20,20), (20,-20). Count the number of steps taken before the walker leaves the area. Repeat the simulation 5 times and report the average number of steps taken by the walker before it exits the area.\n",
    "\n",
    "Plot the path taken in each of the 5 simulation runs (you should all five walks in one graph using different colors)."
   ]
  },
  {
   "cell_type": "code",
   "execution_count": 2,
   "metadata": {
    "collapsed": true
   },
   "outputs": [],
   "source": [
    "#Enter your solution here"
   ]
  },
  {
   "cell_type": "markdown",
   "metadata": {},
   "source": [
    "### Problem 4 - Inverse Transform Sampling (10 Points)\n",
    "\n",
    "Random sample for any distribution can be generated from a random sample from uniform distribution. This can be done using **Inverse transform Sampling**. For example, suppose you want to create a sample of size $n$ from a _Kumaraswamy distribution_. To obtain this sample:\n",
    "1. Generate a sample of size $n$ from Uniform[0,1].\n",
    "2. Identify the inverse of the CDF function of the distribution of your choice (this needs to be done manually and implemented). In our example, it is Kumaraswamy distribution. Call this function ``inverseCDFKumaraswamy()``. Note that you are not allowed to use any routines from ``np.random`` package here. This function should take two arguments, first is the sample point, and the second is the distribution parameter value, $\\lambda$.\n",
    "3. Apply the ``inverseCDFKumaraswamy()`` function on each of the $n$ sample points that you generated in step 1. The $n$ outputs will be the sample from your desired distribution. \n",
    "\n",
    "The Probability Density Function (PDF) of the Kumaraswamy distribution is\n",
    "$$f(x)=\\alpha*\\beta*x^{\\alpha-1}*(1-x^\\alpha)^{\\beta-1}$$\n",
    "\n",
    "The Cumulative Distribution Function (CDF) of the Kumaraswamy distribution is\n",
    "$$F(x)= 1-(1-x^\\alpha)^\\beta$$\n",
    "\n",
    "Using the above implementation, generate a sample of size 100 from a Kumaraswamy ($\\alpha=2$, $\\beta=5$) distribution.\n",
    "\n",
    "Your output must include the mean, variance and distribution plot (a histogram) for the generated sample. "
   ]
  },
  {
   "cell_type": "code",
   "execution_count": null,
   "metadata": {
    "collapsed": true
   },
   "outputs": [],
   "source": [
    "#Enter your solution here"
   ]
  }
 ],
 "metadata": {
  "kernelspec": {
   "display_name": "Python 3",
   "language": "python",
   "name": "python3"
  },
  "language_info": {
   "codemirror_mode": {
    "name": "ipython",
    "version": 3
   },
   "file_extension": ".py",
   "mimetype": "text/x-python",
   "name": "python",
   "nbconvert_exporter": "python",
   "pygments_lexer": "ipython3",
   "version": "3.6.5"
  }
 },
 "nbformat": 4,
 "nbformat_minor": 2
}
